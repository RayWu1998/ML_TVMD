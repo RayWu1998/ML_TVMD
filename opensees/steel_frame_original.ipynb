{
 "cells": [
  {
   "cell_type": "code",
   "execution_count": null,
   "metadata": {
    "collapsed": true
   },
   "outputs": [],
   "source": [
    "# 9层框架钢结构Benchmark模型的OpenSeesPy实现\n",
    "\n",
    "print(\"=========================================================\")\n",
    "print(\"Start 2D Steel Frame Example\")\n",
    "\n",
    "from openseespy.opensees import *\n",
    "\n",
    "import numpy as np\n",
    "import matplotlib.pyplot as plt\n",
    "import os\n",
    "\n",
    "wipe()\n",
    "model('basic', '-ndm', 2, '-ndf', 3)\n",
    "\n",
    "# 框架节点\n",
    "h1 = 5.4864 # 1层层高\n",
    "h2 = 3.9624 # 2-9层层高\n",
    "span_len = 9.144 # 跨长\n",
    "\n",
    "for i in range(0, 10):\n",
    "    for j in range(1, 7):\n",
    "        if i == 0 or i == 1:\n",
    "            h = i * h1\n",
    "        else:\n",
    "            h = h1 + (i - 1) * h2\n",
    "        node_tag = 10 * i + j\n",
    "        x = span_len * (j - 1)\n",
    "        y = h\n",
    "        node(node_tag, x, y)\n",
    "        print(\"node {} {} {}\".format(node_tag, x, y))\n",
    "\n",
    "print(\"Nodes have been defined\")"
   ]
  },
  {
   "cell_type": "code",
   "execution_count": null,
   "outputs": [],
   "source": [
    "# 节点约束\n",
    "for i in range(0, 10):\n",
    "    for j in range(1, 7):\n",
    "        if i == 0:\n",
    "            fix(i * 10 + j, 1, 1, 1)\n",
    "        else:\n",
    "            fix(i * 10 + j, 0, 0, 0)\n",
    "\n",
    "print(\"Nodes have been fixed\")"
   ],
   "metadata": {
    "collapsed": false
   }
  },
  {
   "cell_type": "code",
   "execution_count": null,
   "outputs": [],
   "source": [
    "# 变截面节点\n",
    "bh1 = 1.8288 + h1\n",
    "bh2 = 1.8288 + h1 + 2 * h2\n",
    "bh3 = 1.8288 + h1 + 4 * h2\n",
    "bh4 = 1.8288 + h1 + 6 * h2\n",
    "\n",
    "for i in range(1, 7):\n",
    "    node_tag = 100 + i\n",
    "    x = span_len * (i - 1)\n",
    "    y = bh1\n",
    "    node(node_tag, x, y)\n",
    "    fix(node_tag, 0, 0, 0)\n",
    "    print(\"node {} {} {}\".format(node_tag, x, y))\n",
    "\n",
    "for i in range(1, 7):\n",
    "    node_tag = 200 + i\n",
    "    x = span_len * (i - 1)\n",
    "    y = bh2\n",
    "    node(node_tag, x, y)\n",
    "    fix(node_tag, 0, 0, 0)\n",
    "    print(\"node {} {} {}\".format(node_tag, x, y))\n",
    "\n",
    "for i in range(1, 7):\n",
    "    node_tag = 300 + i\n",
    "    x = span_len * (i - 1)\n",
    "    y = bh3\n",
    "    node(node_tag, x, y)\n",
    "    fix(node_tag, 0, 0, 0)\n",
    "    print(\"node {} {} {}\".format(node_tag, x, y))\n",
    "\n",
    "for i in range(1, 7):\n",
    "    node_tag = 400 + i\n",
    "    x = span_len * (i - 1)\n",
    "    y = bh4\n",
    "    node(node_tag, x, y)\n",
    "    fix(node_tag, 0, 0, 0)\n",
    "    print(\"node {} {} {}\".format(node_tag, x, y))\n",
    "\n",
    "print(\"Variable cross-section nodes have been defined\")"
   ],
   "metadata": {
    "collapsed": false
   }
  },
  {
   "cell_type": "code",
   "execution_count": null,
   "outputs": [],
   "source": [
    "# 材料定义\n",
    "uniaxialMaterial('Steel01', 1, 345000000, 200000000000, 0.01) # 柱材料\n",
    "uniaxialMaterial('Steel01', 2, 248000000, 200000000000, 0.01) # 材料\n",
    "uniaxialMaterial('Elastic', 3, 1.0e20)\n",
    "print(\"Materials have been defined!\")"
   ],
   "metadata": {
    "collapsed": false
   }
  },
  {
   "cell_type": "code",
   "execution_count": null,
   "outputs": [],
   "source": [
    "# 纤维截面定义\n",
    "def Wsection(secID, matID, d, bf, tf, tw, nfdw, nftw, nfbf, nftf):\n",
    "    '''\n",
    "    create a standard W section given the nominal section properties\n",
    "    :param secID: 截面编号\n",
    "    :param matID: 材料编号\n",
    "    :param d: 截面高度\n",
    "    :param bf: 腹板厚度\n",
    "    :param tf: 翼缘宽度\n",
    "    :param tw: 翼缘厚度\n",
    "    :param nfdw: 沿腹板高度的纤维数量\n",
    "    :param nftw: 沿腹板厚度的纤维数量\n",
    "    :param nfbf: 沿翼缘宽度的纤维数量\n",
    "    :param nftf: 沿翼缘厚度的纤维数量\n",
    "    :return:\n",
    "    '''\n",
    "    dw = d - 2 * tf\n",
    "    y1 = -d / 2\n",
    "    y2 = -dw / 2\n",
    "    y3 = dw / 2\n",
    "    y4 = d / 2\n",
    "\n",
    "    z1 = -bf / 2\n",
    "    z2 = -tw / 2\n",
    "    z3 = tw / 2\n",
    "    z4 = bf / 2\n",
    "\n",
    "    section('Fiber', secID)\n",
    "    patch('quad', matID, nfbf, nftf, y1, z4, y1, z1, y2, z1, y2, z4)\n",
    "    patch('quad', matID, nftw, nfdw, y2, z3, y2, z2, y3, z2, y3, z3)\n",
    "    patch('quad', matID, nfbf, nftf, y3, z4, y3, z1, y4, z1, y4, z4)\n",
    "    print(\"Wsection {} was established!\".format(secID))"
   ],
   "metadata": {
    "collapsed": false
   }
  },
  {
   "cell_type": "code",
   "execution_count": null,
   "outputs": [],
   "source": [
    "# 纤维截面定义\n",
    "# 柱\n",
    "# W14*257\n",
    "sectionID = 11\n",
    "materialID = 1\n",
    "d = 0.4161\n",
    "bf = 0.4063\n",
    "tf = 0.048\n",
    "tw = 0.0298\n",
    "nfdw = 20\n",
    "nftw = 2\n",
    "nfbf = 20\n",
    "nftf = 2\n",
    "Wsection(sectionID, materialID, d, bf, tf, tw, nfdw, nftw, nfbf, nftf)\n",
    "\n",
    "# W14*283\n",
    "sectionID = 12\n",
    "materialID = 1\n",
    "d = 0.4252\n",
    "bf = 0.4092\n",
    "tf = 0.0526\n",
    "tw = 0.0328\n",
    "nfdw = 20\n",
    "nftw = 2\n",
    "nfbf = 20\n",
    "nftf = 2\n",
    "Wsection(sectionID, materialID, d, bf, tf, tw, nfdw, nftw, nfbf, nftf)\n",
    "# W14*370\n",
    "sectionID = 13\n",
    "materialID = 1\n",
    "d = 0.4552\n",
    "bf = 0.4185\n",
    "tf = 0.0676\n",
    "tw = 0.042\n",
    "nfdw = 20\n",
    "nftw = 2\n",
    "nfbf = 20\n",
    "nftf = 2\n",
    "Wsection(sectionID, materialID, d, bf, tf, tw, nfdw, nftw, nfbf, nftf)\n",
    "# W14*455\n",
    "sectionID = 14\n",
    "materialID = 1\n",
    "d = 0.4831\n",
    "bf = 0.4276\n",
    "tf = 0.0815\n",
    "tw = 0.0512\n",
    "nfdw = 20\n",
    "nftw = 2\n",
    "nfbf = 20\n",
    "nftf = 2\n",
    "Wsection(sectionID, materialID, d, bf, tf, tw, nfdw, nftw, nfbf, nftf)\n",
    "# W14*500\n",
    "sectionID = 15\n",
    "materialID = 1\n",
    "d = 0.4978\n",
    "bf = 0.4321\n",
    "tf = 0.0889\n",
    "tw = 0.0556\n",
    "nfdw = 20\n",
    "nftw = 2\n",
    "nfbf = 20\n",
    "nftf = 2\n",
    "Wsection(sectionID, materialID, d, bf, tf, tw, nfdw, nftw, nfbf, nftf)\n",
    "# 梁\n",
    "# W24*68\n",
    "sectionID = 21\n",
    "materialID = 2\n",
    "d = 0.6027\n",
    "bf = 0.2277\n",
    "tf = 0.0149\n",
    "tw = 0.0105\n",
    "nfdw = 20\n",
    "nftw = 2\n",
    "nfbf = 20\n",
    "nftf = 2\n",
    "Wsection(sectionID, materialID, d, bf, tf, tw, nfdw, nftw, nfbf, nftf)\n",
    "# W27*84\n",
    "sectionID = 22\n",
    "materialID = 2\n",
    "d = 0.6784\n",
    "bf = 0.253\n",
    "tf = 0.0163\n",
    "tw = 0.0117\n",
    "nfdw = 20\n",
    "nftw = 2\n",
    "nfbf = 20\n",
    "nftf = 2\n",
    "Wsection(sectionID, materialID, d, bf, tf, tw, nfdw, nftw, nfbf, nftf)\n",
    "\n",
    "# W30*99\n",
    "sectionID = 23\n",
    "materialID = 2\n",
    "d = 0.7531\n",
    "bf = 0.2654\n",
    "tf = 0.017\n",
    "tw = 0.0132\n",
    "nfdw = 20\n",
    "nftw = 2\n",
    "nfbf = 20\n",
    "nftf = 2\n",
    "Wsection(sectionID, materialID, d, bf, tf, tw, nfdw, nftw, nfbf, nftf)\n",
    "# W36*135\n",
    "sectionID = 24\n",
    "materialID = 2\n",
    "d = 0.903\n",
    "bf = 0.3035\n",
    "tf = 0.0201\n",
    "tw = 0.0152\n",
    "nfdw = 20\n",
    "nftw = 2\n",
    "nfbf = 20\n",
    "nftf = 2\n",
    "Wsection(sectionID, materialID, d, bf, tf, tw, nfdw, nftw, nfbf, nftf)\n",
    "# W36*160\n",
    "sectionID = 25\n",
    "materialID = 2\n",
    "d = 0.9147\n",
    "bf = 0.3048\n",
    "tf = 0.0259\n",
    "tw = 0.0165\n",
    "nfdw = 20\n",
    "nftw = 2\n",
    "nfbf = 20\n",
    "nftf = 2\n",
    "Wsection(sectionID, materialID, d, bf, tf, tw, nfdw, nftw, nfbf, nftf)"
   ],
   "metadata": {
    "collapsed": false
   }
  },
  {
   "cell_type": "code",
   "execution_count": null,
   "outputs": [],
   "source": [
    "# 建立截面\n",
    "section('Aggregator', 111, 3, 'T', '-section', 11)\n",
    "section('Aggregator', 112, 3, 'T', '-section', 12)\n",
    "section('Aggregator', 113, 3, 'T', '-section', 13)\n",
    "section('Aggregator', 114, 3, 'T', '-section', 14)\n",
    "section('Aggregator', 115, 3, 'T', '-section', 15)\n",
    "section('Aggregator', 121, 3, 'T', '-section', 21)\n",
    "section('Aggregator', 122, 3, 'T', '-section', 22)\n",
    "section('Aggregator', 123, 3, 'T', '-section', 23)\n",
    "section('Aggregator', 124, 3, 'T', '-section', 24)\n",
    "section('Aggregator', 125, 3, 'T', '-section', 25)\n",
    "print(\"Fiber section have been defined!\")"
   ],
   "metadata": {
    "collapsed": false
   }
  },
  {
   "cell_type": "code",
   "execution_count": null,
   "outputs": [],
   "source": [
    "# 定义构件\n",
    "geomTransf('Linear', 1)\n",
    "geomTransf('Linear', 2)\n",
    "\n",
    "# 柱\n",
    "# 1\n",
    "for i in range(1, 7):\n",
    "\telement('nonlinearBeamColumn', 10 + i, i, 10 + i, 5, 115, 1)\n",
    "\n",
    "# 1.5\n",
    "for i in range(1, 7):\n",
    "\telement('nonlinearBeamColumn', 20 + i, 10 + i, 100 + i, 5, 115, 1)\n",
    "\n",
    "# 2\n",
    "for i in range(1, 7):\n",
    "\telement('nonlinearBeamColumn', 30 + i, 100 + i, 20 + i, 5, 114, 1)\n",
    "\n",
    "# 3\n",
    "for i in range(1, 7):\n",
    "\telement('nonlinearBeamColumn', 40 + i, 20 + i, 30 + i, 5, 114, 1)\n",
    "\n",
    "# 3.5\n",
    "for i in range(1, 7):\n",
    "\telement('nonlinearBeamColumn', 50 + i, 30 + i, 200 + i, 5, 114, 1)\n",
    "\n",
    "# 4\n",
    "for i in range(1, 7):\n",
    "\telement('nonlinearBeamColumn', 60 + i, 200 + i, 40 + i, 5, 113, 1)\n",
    "\n",
    "# 5\n",
    "for i in range(1, 7):\n",
    "\telement('nonlinearBeamColumn', 70 + i, 40 + i, 50 + i, 5, 113, 1)\n",
    "\n",
    "# 5.5\n",
    "for i in range(1, 7):\n",
    "\telement('nonlinearBeamColumn', 80 + i, 50 + i, 300 + i, 5, 113, 1)\n",
    "\n",
    "# 6\n",
    "for i in range(1, 7):\n",
    "\telement('nonlinearBeamColumn', 90 + i, 300 + i, 60 + i, 5, 112, 1)\n",
    "\n",
    "# 7\n",
    "for i in range(1, 7):\n",
    "\telement('nonlinearBeamColumn', 100 + i, 60 + i, 70 + i, 5, 112, 1)\n",
    "\n",
    "#7.5\n",
    "for i in range(1, 7):\n",
    "\telement('nonlinearBeamColumn', 110 + i, 70 + i, 400 + i, 5, 112, 1)\n",
    "\n",
    "# 8\n",
    "for i in range(1, 7):\n",
    "\telement('nonlinearBeamColumn', 120 + i, 400 + i, 80 + i, 5, 111, 1)\n",
    "\n",
    "# 9\n",
    "for i in range(1, 7):\n",
    "\telement('nonlinearBeamColumn', 130 + i, 80 + i, 90 + i, 5, 111, 1)\n",
    "\n",
    "print(\"Columns have been defined!\")"
   ],
   "metadata": {
    "collapsed": false
   }
  },
  {
   "cell_type": "code",
   "execution_count": null,
   "outputs": [],
   "source": [
    "# 梁\n",
    "# 1\n",
    "for i in range(1, 6):\n",
    "    element('nonlinearBeamColumn', 210 + i, 10+ i, 10+ i+1, 5, 125, 2)\n",
    "\n",
    "# 2\n",
    "for i in range(1, 6):\n",
    "    element('nonlinearBeamColumn', 220 + i, 20+ i, 20+ i+1, 5, 125, 2)\n",
    "\n",
    "# 3\n",
    "for i in range(1, 6):\n",
    "    element('nonlinearBeamColumn', 230 + i, 30+ i, 30+ i+1, 5, 124, 2)\n",
    "\n",
    "# 4\n",
    "for i in range(1, 6):\n",
    "    element('nonlinearBeamColumn', 240+ i, 40+ i, 40+ i+1, 5, 124, 2)\n",
    "\n",
    "# 5\n",
    "for i in range(1, 6):\n",
    "    element('nonlinearBeamColumn', 250+ i, 50+ i, 50+ i+1, 5, 124, 2)\n",
    "\n",
    "# 6\n",
    "for i in range(1, 6):\n",
    "    element('nonlinearBeamColumn', 260+ i, 60+ i, 60+ i+1, 5, 124, 2)\n",
    "\n",
    "# 7\n",
    "for i in range(1, 6):\n",
    "    element('nonlinearBeamColumn', 270+ i, 70+ i, 70+ i+1, 5, 123, 2)\n",
    "\n",
    "# 8\n",
    "for i in range(1, 6):\n",
    "    element('nonlinearBeamColumn', 280+ i, 80+ i, 80+ i+1, 5, 122, 2)\n",
    "\n",
    "# 9\n",
    "for i in range(1, 6):\n",
    "    element('nonlinearBeamColumn', 290+ i, 90+ i, 90+ i+1, 5, 121, 2)\n",
    "\n",
    "print(\"Beams have been defined!\")"
   ],
   "metadata": {
    "collapsed": false
   }
  },
  {
   "cell_type": "code",
   "execution_count": null,
   "outputs": [],
   "source": [
    "# 定义节点质量\n",
    "# 1层\n",
    "mass1 = 50465.75\n",
    "mass2 = 100931.5\n",
    "for i in range(1, 7):\n",
    "    if i == 1 or i == 6:\n",
    "\t    m = mass1\n",
    "    else:\n",
    "\t    m = mass2\n",
    "    node_tag = 10 + i\n",
    "    mass(node_tag, m, m, m)\n",
    "    print(\"mass {} {} {} {}\".format(node_tag, m, m, m))\n",
    "print(\"Total mass of floor 1 is {}\".format(2 * mass1 + 4 * mass2))\n",
    "\n",
    "# 2-8层\n",
    "mass1 = 49416.46\n",
    "mass2 = 98832.93\n",
    "for j in range(2, 9):\n",
    "    for i in range(1, 7):\n",
    "        if i == 1 or i == 6:\n",
    "            m = mass1\n",
    "        else:\n",
    "            m = mass2\n",
    "        node_tag = j * 10 + i\n",
    "        mass(node_tag, m, m, m)\n",
    "        print(\"mass {} {} {} {}\".format(node_tag, m, m, m))\n",
    "    print(\"Totalmass of floor {} is {}\".format(j, 2 * mass1 + 4 * mass2))\n",
    "\n",
    "# 9层\n",
    "mass1 = 53463.72\n",
    "mass2 = 106927.4\n",
    "for i in range(1, 7):\n",
    "    if i == 1 or i == 6:\n",
    "\t    m = mass1\n",
    "    else:\n",
    "\t    m = mass2\n",
    "    node_tag = 90 + i\n",
    "    mass(node_tag, m, m, m)\n",
    "    print(\"mass {} {} {} {}\".format(node_tag, m, m, m))\n",
    "\n",
    "print(\"Total mass of floor 9 is {}\".format(2 * mass1 + 4 * mass2))"
   ],
   "metadata": {
    "collapsed": false
   }
  },
  {
   "cell_type": "code",
   "execution_count": null,
   "outputs": [],
   "source": [
    "def drift_cal(i_node, j_node, height):\n",
    "    '''\n",
    "    计算层间位移角\n",
    "    :param i_node: i节点的节点标志\n",
    "    :param j_node: j节点的节点标志\n",
    "    :param height: 层高\n",
    "    :return:\n",
    "    '''\n",
    "    drift = (nodeDisp(i_node, 1) - nodeDisp(j_node, 1)) / height\n",
    "    return drift"
   ],
   "metadata": {
    "collapsed": false
   }
  },
  {
   "cell_type": "code",
   "execution_count": null,
   "outputs": [],
   "source": [
    "def height(node_tag):\n",
    "    '''\n",
    "    返回节点标志对应的层高\n",
    "    :param node_tag: 节点标志\n",
    "    :return: 层高\n",
    "    '''\n",
    "    if node_tag < 20:\n",
    "        return 5.4864 # 1层\n",
    "    else:\n",
    "        return 3.9624 # 2~9层"
   ],
   "metadata": {
    "collapsed": false
   }
  },
  {
   "cell_type": "code",
   "execution_count": null,
   "outputs": [],
   "source": [
    "# # timeSeries('Path',2,'-filePath','elCentro.dat','-dt',dt,'-factor',g)\n",
    "# # pattern('UniformExcitation',2,1,'-accel',2)\n",
    "# # rayleigh(0,0,0,0.000625)\n",
    "# wipeAnalysis()\n",
    "# system('BandGeneral')\n",
    "# constraints('Plain')\n",
    "# test('NormDispIncr', 1.0e-12,  10 )\n",
    "# algorithm('Newton')\n",
    "# numberer('RCM')\n",
    "# integrator('Newmark',  0.5,  0.25 )\n",
    "# # analysis('Transient')"
   ],
   "metadata": {
    "collapsed": false
   }
  },
  {
   "cell_type": "code",
   "execution_count": null,
   "outputs": [],
   "source": [
    "wipeAnalysis()\n",
    "# 特征值分析\n",
    "num_eigen = 10\n",
    "eigen_values = eigen(num_eigen)\n",
    "for i in range(0, num_eigen):\n",
    "    w2 = eigen_values[i]\n",
    "    T = 2 * np.pi / np.sqrt(w2)\n",
    "    print(\"natural period {}: {}\".format(i, T))"
   ],
   "metadata": {
    "collapsed": false
   }
  },
  {
   "cell_type": "code",
   "execution_count": null,
   "outputs": [],
   "source": [
    "# 定义瑞利阻尼\n",
    "xDamp = 0.04 #钢结构的阻尼比\n",
    "MpropSwitch = 1.0\n",
    "KcurrSwitch = 0.0\n",
    "KcommSwitch = 1.0\n",
    "KinitSwitch = 0.0\n",
    "omega1 = np.sqrt(eigen_values[0])\n",
    "omega3 = np.sqrt(eigen_values[2])\n",
    "alphaM = MpropSwitch * xDamp * (2 * omega1 * omega3)/(omega1 + omega3)\n",
    "betaKcurr = KcurrSwitch * 2. * xDamp / (omega1 + omega3)\n",
    "betaKcomm = KcommSwitch * 2. * xDamp / (omega1 + omega3)\n",
    "betaKinit = KinitSwitch * 2. * xDamp / (omega1 + omega3)\n",
    "rayleigh(alphaM, betaKcurr, betaKinit, betaKcomm)"
   ],
   "metadata": {
    "collapsed": false
   }
  },
  {
   "cell_type": "code",
   "execution_count": null,
   "outputs": [],
   "source": [
    "displacement = {}\n",
    "velocity = {}\n",
    "acceleration = {}\n",
    "drift = {}\n",
    "# 动力学分析\n",
    "PGA = 5.1\n",
    "dt = 0.02\n",
    "nPts = 1955\n",
    "timeSeries('Path', 2,'-filePath','AW2.txt', '-dt', dt, '-factor',PGA)\n",
    "pattern('UniformExcitation', 2, 1, '-accel', 2)\n",
    "\n",
    "for i in [11, 21, 31, 41, 51, 61, 71, 81, 91]:\n",
    "    displacement['disp'+str(i)]=[]\n",
    "    velocity['vel'+str(i)]=[]\n",
    "    acceleration['accel'+str(i)]=[]\n",
    "    drift['drift'+str(i)]=[]\n",
    "\n",
    "time = []\n",
    "final_time = 1955 * 0.02\n",
    "\n",
    "# NEWMARK直接积分\n",
    "wipeAnalysis()\n",
    "constraints('Plain')    \t\t\t\t# 约束条件\n",
    "numberer('RCM')\t\t\t\t\t# 对节点重新编号\n",
    "system('BandGeneral')\t\t\t# 解矩阵的方法\n",
    "test('EnergyIncr', 1.000000e-6, 10, 0, 2)  #误差分析\n",
    "algorithm('KrylovNewton')\t\t\t# 算法\n",
    "integrator('Newmark', 0.5, 0.25) \t\t\t# 用newmark法积分\n",
    "analysis('Transient')\t\t\t\t\t# 时程分析"
   ],
   "metadata": {
    "collapsed": false
   }
  },
  {
   "cell_type": "code",
   "execution_count": null,
   "outputs": [],
   "source": [
    "while getTime() <final_time:\n",
    "    current_time=getTime()\n",
    "    analyze(1, 0.02)\n",
    "\n",
    "    for i in [11, 21, 31, 41, 51, 61, 71, 81, 91]:\n",
    "        displacement['disp'+str(i)].append(nodeDisp(i,1))\n",
    "        velocity['vel'+str(i)].append(nodeVel(i,1))\n",
    "        acceleration['accel'+str(i)].append(nodeAccel(i,1))\n",
    "        height(i)\n",
    "\n",
    "    time.append(current_time)"
   ],
   "metadata": {
    "collapsed": false
   }
  },
  {
   "cell_type": "code",
   "execution_count": null,
   "outputs": [],
   "source": [
    "plt.plot(time, displacement['disp11'])"
   ],
   "metadata": {
    "collapsed": false
   }
  },
  {
   "cell_type": "code",
   "execution_count": null,
   "outputs": [],
   "source": [
    "plt.plot(time, velocity['vel11'])"
   ],
   "metadata": {
    "collapsed": false
   }
  },
  {
   "cell_type": "code",
   "execution_count": null,
   "outputs": [],
   "source": [
    "plt.plot(time, acceleration['accel11'])"
   ],
   "metadata": {
    "collapsed": false
   }
  },
  {
   "cell_type": "code",
   "execution_count": null,
   "outputs": [],
   "source": [
    "import opsvis as opsvis\n",
    "\n",
    "opsvis.plot_model()"
   ],
   "metadata": {
    "collapsed": false
   }
  },
  {
   "cell_type": "code",
   "execution_count": null,
   "outputs": [],
   "source": [
    "opsvis.plot_mode_shape(2)"
   ],
   "metadata": {
    "collapsed": false
   }
  },
  {
   "cell_type": "code",
   "execution_count": null,
   "outputs": [],
   "source": [
    "import opstool as opst"
   ],
   "metadata": {
    "collapsed": false
   }
  },
  {
   "cell_type": "code",
   "execution_count": null,
   "outputs": [],
   "source": [
    "opst.plot_model(backend=\"pyvista\")    # or backend=\"plotly\"|"
   ],
   "metadata": {
    "collapsed": false
   }
  },
  {
   "cell_type": "code",
   "execution_count": null,
   "outputs": [],
   "source": [
    "opst.plot_eigen(mode_tags=[1, 4], backend=\"pyvista\", subplots=True)   # or backend=\"plotly\""
   ],
   "metadata": {
    "collapsed": false
   }
  },
  {
   "cell_type": "code",
   "execution_count": null,
   "outputs": [],
   "source": [],
   "metadata": {
    "collapsed": false
   }
  }
 ],
 "metadata": {
  "kernelspec": {
   "display_name": "Python 3",
   "language": "python",
   "name": "python3"
  },
  "language_info": {
   "codemirror_mode": {
    "name": "ipython",
    "version": 2
   },
   "file_extension": ".py",
   "mimetype": "text/x-python",
   "name": "python",
   "nbconvert_exporter": "python",
   "pygments_lexer": "ipython2",
   "version": "2.7.6"
  }
 },
 "nbformat": 4,
 "nbformat_minor": 0
}
