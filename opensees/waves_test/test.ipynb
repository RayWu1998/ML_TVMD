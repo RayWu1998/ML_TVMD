{
 "cells": [
  {
   "cell_type": "code",
   "execution_count": 50,
   "metadata": {
    "collapsed": true
   },
   "outputs": [
    {
     "name": "stdout",
     "output_type": "stream",
     "text": [
      "time.time()\n",
      "0.19955754280090332 s\n"
     ]
    }
   ],
   "source": [
    "import time\n",
    "print('time.time()')\n",
    "start = time.time()\n",
    "for i in range(2**23):\n",
    "    pass\n",
    "end = time.time()\n",
    "print(end - start, 's')"
   ]
  },
  {
   "cell_type": "code",
   "execution_count": 20,
   "outputs": [],
   "source": [
    "def add():\n",
    "   y = x + 9\n",
    "   print(y)"
   ],
   "metadata": {
    "collapsed": false
   }
  },
  {
   "cell_type": "code",
   "execution_count": 45,
   "outputs": [],
   "source": [
    "a = [1 , 2, 3]"
   ],
   "metadata": {
    "collapsed": false
   }
  },
  {
   "cell_type": "code",
   "execution_count": 46,
   "outputs": [],
   "source": [
    "b = [i * 2 for i in a]"
   ],
   "metadata": {
    "collapsed": false
   }
  },
  {
   "cell_type": "code",
   "execution_count": 47,
   "outputs": [
    {
     "data": {
      "text/plain": "[2, 4, 6]"
     },
     "execution_count": 47,
     "metadata": {},
     "output_type": "execute_result"
    }
   ],
   "source": [
    "b"
   ],
   "metadata": {
    "collapsed": false
   }
  },
  {
   "cell_type": "code",
   "execution_count": 48,
   "outputs": [],
   "source": [
    "b[0] = a[0]"
   ],
   "metadata": {
    "collapsed": false
   }
  },
  {
   "cell_type": "code",
   "execution_count": 49,
   "outputs": [
    {
     "data": {
      "text/plain": "[1, 4, 6]"
     },
     "execution_count": 49,
     "metadata": {},
     "output_type": "execute_result"
    }
   ],
   "source": [
    "b"
   ],
   "metadata": {
    "collapsed": false
   }
  },
  {
   "cell_type": "code",
   "execution_count": null,
   "outputs": [],
   "source": [
    " 特征排序\n",
    "def plot_features_importances(feature_importances, feature_names):\n",
    "    \"\"\"\n",
    "    特征重要性排序，选出占重要性排序前90%的特征\n",
    "    :param feature_importances:  特征重要性\n",
    "    :param feature_names: 特征名称\n",
    "    :return: 主要的特征\n",
    "    \"\"\"\n",
    "    plt.figure(figsize=(5, 20))\n",
    "    indices = np.argsort(feature_importances)  # 下标排序\n",
    "    indices_flip = indices[::-1]  # 倒序\n",
    "    names = []\n",
    "    for f in range(len(feature_names)):\n",
    "        names.append(feature_names[indices[f]])\n",
    "        print(\"%2d) %-*s %f\" % (f + 1, 30, feature_names[indices_flip[f]], feature_importances[indices_flip[f]]))\n",
    "\n",
    "    # # 取前90%重要性的数据\n",
    "    # sum_importances = 0\n",
    "    # threshold = 0\n",
    "    # for i in range(len(feature_importances)):\n",
    "    #     sum_importances += feature_importances[indices[i]]\n",
    "    #     if sum_importances >= 0.05:\n",
    "    #         threshold = i\n",
    "    #         break\n",
    "\n",
    "    # 取前20个特征\n",
    "    threshold = len(feature_importances) - 20\n",
    "    pos = np.arange(indices.shape[0])\n",
    "    plt.barh(pos[0:threshold], feature_importances[indices[0:threshold]], align=\"center\")\n",
    "    plt.barh(pos[threshold:], feature_importances[indices[threshold:]], align=\"center\", color=\"red\")\n",
    "    plt.ylim([pos[0] - 1, pos[-1] + 1])\n",
    "    plt.ylabel(\"排序\", fontname='SimSun', fontsize=10)\n",
    "    plt.xlabel(\"相对重要性\", fontname='SimSun', fontsize=10)\n",
    "    plt.yticks(pos, names, fontsize=5)\n",
    "    plt.xticks(fontsize=5)\n",
    "    xlabel = feature_importances[indices]\n",
    "    ylabel = pos\n",
    "    for x1, y1 in zip(xlabel, ylabel):\n",
    "        x1 = np.around(x1, decimals=3)\n",
    "        plt.text(x1 + 0.0005, y1 - 0.25, '%.3f' % x1, fontsize=5)\n",
    "    plt.show()\n",
    "    return names[threshold:][::-1]"
   ],
   "metadata": {
    "collapsed": false
   }
  }
 ],
 "metadata": {
  "kernelspec": {
   "display_name": "Python 3",
   "language": "python",
   "name": "python3"
  },
  "language_info": {
   "codemirror_mode": {
    "name": "ipython",
    "version": 2
   },
   "file_extension": ".py",
   "mimetype": "text/x-python",
   "name": "python",
   "nbconvert_exporter": "python",
   "pygments_lexer": "ipython2",
   "version": "2.7.6"
  }
 },
 "nbformat": 4,
 "nbformat_minor": 0
}
