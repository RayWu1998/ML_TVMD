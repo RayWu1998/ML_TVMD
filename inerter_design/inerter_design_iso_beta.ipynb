{
 "cells": [
  {
   "cell_type": "code",
   "execution_count": null,
   "outputs": [],
   "source": [
    "import pandas as pd\n",
    "import os\n",
    "import numpy as np\n",
    "\n",
    "# 绘图\n",
    "import matplotlib.pyplot as plt\n",
    "\n",
    "\n",
    "# 基本工具\n",
    "import matplotlib\n",
    "import platform\n",
    "import numpy as np\n",
    "import os\n",
    "import pandas as pd\n",
    "\n",
    "\n",
    "# 样本数据处理\n",
    "from sklearn.model_selection import train_test_split\n",
    "\n",
    "# 分类模型\n",
    "from sklearn.ensemble import RandomForestClassifier\n",
    "from xgboost import XGBClassifier\n",
    "from sklearn.metrics import confusion_matrix\n",
    "from sklearn.metrics import classification_report\n",
    "from sklearn.metrics import plot_roc_curve\n",
    "\n",
    "# 回归模型\n",
    "from sklearn.ensemble import RandomForestRegressor\n",
    "from xgboost import XGBRegressor\n",
    "from sklearn.metrics import mean_absolute_percentage_error, r2_score, mean_squared_error, mean_absolute_error, mean_squared_log_error\n",
    "\n",
    "# 保存模型\n",
    "import joblib"
   ],
   "metadata": {
    "collapsed": false
   }
  },
  {
   "cell_type": "code",
   "execution_count": null,
   "outputs": [],
   "source": [
    "sys_platform = platform.platform().lower()\n",
    "if \"windows\" in sys_platform:\n",
    "    font = {\n",
    "        \"family\": \"Times New Roman\"\n",
    "    }\n",
    "    matplotlib.rc(\"font\", **font)\n",
    "else:\n",
    "    font = {\n",
    "        \"family\": \"Arial Unicode MS\"\n",
    "    }\n",
    "    matplotlib.rc(\"font\", **font)\n",
    "rc = {\"mathtext.fontset\": \"stix\", }\n",
    "\n",
    "plt.rcParams.update(rc)"
   ],
   "metadata": {
    "collapsed": false
   }
  },
  {
   "cell_type": "code",
   "execution_count": null,
   "outputs": [],
   "source": [
    "## 图像显示中文的问题，需要判断系统是windows还是苹果的\n",
    "\n",
    "sys_platform = platform.platform().lower()\n",
    "if \"windows\" in sys_platform:\n",
    "    font = {\n",
    "        \"family\": \"Microsoft YaHei\"\n",
    "    }\n",
    "    matplotlib.rc(\"font\", **font)\n",
    "else:\n",
    "    font = {\n",
    "        \"family\": \"Arial Unicode MS\"\n",
    "    }\n",
    "    matplotlib.rc(\"font\", **font)"
   ],
   "metadata": {
    "collapsed": false
   }
  },
  {
   "cell_type": "code",
   "execution_count": null,
   "outputs": [],
   "source": [
    "def combine_csv(path):\n",
    "    \"\"\"\n",
    "    将多个设备计算出的csv文件进行合并\n",
    "    :param path: cs文件的存放路径\n",
    "    :return: 返回合并后的DataFrame格式数据\n",
    "    \"\"\"\n",
    "    files = os.listdir(path)\n",
    "    design_res = pd.read_csv(path + \"/\" + files[0], )\n",
    "\n",
    "    for file in files[1:]:\n",
    "        df = pd.read_csv(path + \"/\" + file)\n",
    "        design_res = pd.concat([design_res, df], axis=0)\n",
    "    design_res = design_res.drop_duplicates()  # 去重\n",
    "    design_res = design_res.reset_index(drop=True)  # 重新生成index\n",
    "    design_res = design_res.loc[:, ~design_res.columns.str.contains('Unnamed')]\n",
    "    return design_res"
   ],
   "metadata": {
    "collapsed": false
   }
  },
  {
   "cell_type": "code",
   "execution_count": null,
   "outputs": [],
   "source": [
    "data_dir = \"./data\"\n",
    "if os.path.exists(data_dir):\n",
    "    shutil.rmtree(data_dir)\n",
    "os.mkdir(data_dir, 0o777)\n",
    "design_res = combine_csv(\"./design_res_final_beta\")\n",
    "tar_file = os.path.join(data_dir, \"design_res_beta.csv\")\n",
    "# 存储为csv文件\n",
    "design_res.to_csv(tar_file, index=False)"
   ],
   "metadata": {
    "collapsed": false
   }
  },
  {
   "cell_type": "code",
   "execution_count": null,
   "outputs": [],
   "source": [
    "df=pd.read_csv(tar_file)\n",
    "df.info()\n",
    "df.sample(3)"
   ],
   "metadata": {
    "collapsed": false
   }
  },
  {
   "cell_type": "code",
   "execution_count": null,
   "outputs": [],
   "source": [
    "df = df.dropna(axis=0, how='any')"
   ],
   "metadata": {
    "collapsed": false
   }
  },
  {
   "cell_type": "markdown",
   "source": [
    "# 分类问题"
   ],
   "metadata": {
    "collapsed": false
   }
  },
  {
   "cell_type": "code",
   "execution_count": null,
   "outputs": [],
   "source": [
    "# 去掉id,site_name,mu,zeta,kappa,gamma,alpha,\n",
    "x_label = [\"period\", \"site_no\", \"wg\", \"xig\", \"stru_damping\", \"gamma_t\"]\n",
    "y_label = [\"ok\"]\n",
    "X = df.loc[:, x_label].values\n",
    "y = df.loc[:, y_label].values\n",
    "y = np.array(y, dtype=bool)"
   ],
   "metadata": {
    "collapsed": false
   }
  },
  {
   "cell_type": "code",
   "execution_count": null,
   "outputs": [],
   "source": [
    "X_train, X_test, y_train, y_test = train_test_split(X, y, test_size=0.1, random_state=2)\n",
    "y_test = y_test.reshape([-1,])\n",
    "y_train = y_train.reshape([-1,])"
   ],
   "metadata": {
    "collapsed": false
   }
  },
  {
   "cell_type": "code",
   "execution_count": null,
   "outputs": [],
   "source": [
    "print(X_train.shape, X_test.shape, y_train.shape, y_test.shape)"
   ],
   "metadata": {
    "collapsed": false
   }
  },
  {
   "cell_type": "code",
   "execution_count": null,
   "outputs": [],
   "source": [
    "new_X_train = X_train\n",
    "new_X_test = X_test"
   ],
   "metadata": {
    "collapsed": false
   }
  },
  {
   "cell_type": "markdown",
   "source": [
    "## 随机森林"
   ],
   "metadata": {
    "collapsed": false
   }
  },
  {
   "cell_type": "code",
   "execution_count": null,
   "outputs": [],
   "source": [
    "# 贝叶斯优化\n",
    "rfc = RandomForestClassifier()\n",
    "\n",
    "param_grid = {'max_depth': np.arange(start=10, stop=500, step=10, dtype=int),\n",
    "              'n_estimators': np.arange(start=50, stop=1000, step=50, dtype=int),\n",
    "              'max_features': np.arange(start=1, stop=12, step=1, dtype=int),\n",
    "              'min_samples_leaf': np.array([2, 5, 10, 15], dtype=int),\n",
    "              'min_samples_split': np.array([2, 5, 10, 15], dtype=int),\n",
    "              'random_state': [3]}\n",
    "\n",
    "opt = BayesSearchCV(rfc, param_grid, n_iter=50, n_jobs=5, cv=3)\n",
    "opt.fit(new_X_train, y_train)"
   ],
   "metadata": {
    "collapsed": false
   }
  },
  {
   "cell_type": "code",
   "execution_count": null,
   "outputs": [],
   "source": [
    "print(opt.best_params_)\n",
    "best_params = opt.best_params_"
   ],
   "metadata": {
    "collapsed": false
   }
  },
  {
   "cell_type": "code",
   "execution_count": null,
   "outputs": [],
   "source": [
    "\n",
    "df[\"ok\"].value_counts()"
   ],
   "metadata": {
    "collapsed": false
   }
  },
  {
   "cell_type": "code",
   "execution_count": null,
   "outputs": [],
   "source": [
    "rfc = RandomForestClassifier(n_estimators=best_params[\"n_estimators\"], max_features=best_params['max_features'],\n",
    "                             max_depth=best_params[\"max_depth\"], min_samples_split=best_params[\"min_samples_split\"],\n",
    "                             min_samples_leaf=best_params[\"min_samples_leaf\"], random_state=best_params[\"random_state\"])\n",
    "rfc.fit(new_X_train, y_train)\n",
    "\n",
    "# 预测时间\n",
    "start = time.time()\n",
    "print(\"开始预测！！\")\n",
    "y_pre_rfc = rfc.predict(new_X_test)\n",
    "end = time.time()\n",
    "print('预测时间', end - start, 's')\n",
    "\n",
    "\n",
    "print('正确标签：', y_test)\n",
    "print('预测结果：', y_pre_rfc)\n",
    "\n",
    "print('训练集分数：', rfc.score(new_X_train, y_train))\n",
    "print('测试集分数：', rfc.score(new_X_test, y_test))"
   ],
   "metadata": {
    "collapsed": false
   }
  },
  {
   "cell_type": "code",
   "execution_count": null,
   "outputs": [],
   "source": [
    "# 绘制混淆矩阵\n",
    "conf_mat = confusion_matrix(y_test, y_pre_rfc)\n",
    "plt.matshow(conf_mat, cmap=plt.cm.Reds)\n",
    "for (i, j), z in np.ndenumerate(conf_mat):\n",
    "    plt.text(j, i, '{0:d}'.format(z), ha='center', va='center')\n",
    "plt.colorbar()\n",
    "plt.ylabel('真实结果', fontname=\"SimSun\", fontsize=12)\n",
    "plt.xlabel('预测结果', fontname=\"SimSun\", fontsize=12)\n",
    "plt.xticks([0, 1], [\"False\", \"True\"], fontsize=10)\n",
    "plt.yticks([0, 1], [\"False\", \"True\"], fontsize=10)\n",
    "pic_name = r\"随机森林分类混淆矩阵\"\n",
    "plt.savefig(r'./pic/{}.png'.format(pic_name), dpi=600, bbox_inches='tight')\n",
    "plt.show()\n",
    "plt.close()\n",
    "\n",
    "print('混淆矩阵：')\n",
    "print(conf_mat)\n",
    "\n",
    "print('混淆矩阵：')\n",
    "print(conf_mat)\n",
    "\n",
    "# 分类指标文本报告（精确率、召回率、F1值等\n",
    "print('分类指标报告：')\n",
    "print(classification_report(y_test, y_pre_rfc))\n",
    "\n",
    "# 特征重要性\n",
    "print(rfc.feature_importances_)"
   ],
   "metadata": {
    "collapsed": false
   }
  },
  {
   "cell_type": "code",
   "execution_count": null,
   "outputs": [],
   "source": [
    "joblib.dump(rfc, \"./model/rfc.model\")"
   ],
   "metadata": {
    "collapsed": false
   }
  },
  {
   "cell_type": "markdown",
   "source": [
    "## XGBoost"
   ],
   "metadata": {
    "collapsed": false
   }
  },
  {
   "cell_type": "code",
   "execution_count": null,
   "outputs": [],
   "source": [
    "# 贝叶斯优化\n",
    "xgBoostC = XGBClassifier()\n",
    "\n",
    "param_grid = {'learning_rate': np.array([0.01, 0.015, 0.025, 0.05, 0.1], dtype=float),\n",
    "              'gamma': np.array([0, 0.05, 0.1, 0.3, 0.5, 0.7, 0.9, 1], dtype=float),\n",
    "              \"reg_alpha\": np.array([0, 0.01, 0.1, 1], dtype=float),\n",
    "              \"reg_lambda\": np.array([0, 0.1, 0.5, 1], dtype=float),\n",
    "              \"min_child_weight\": np.array([1, 3, 5, 7], dtype=int),\n",
    "              'subsample': np.array([0.5, 0.6, 0.7, 0.8, 0.9, 1], dtype=float),\n",
    "              'max_depth': np.arange(start=10, stop=500, step=10, dtype=int),\n",
    "              'n_estimators': np.arange(start=50, stop=1000, step=50, dtype=int),\n",
    "              'random_state': [3]}\n",
    "\n",
    "opt = BayesSearchCV(xgBoostC, param_grid, n_iter=50, n_jobs=3, cv=3)\n",
    "\n",
    "opt.fit(new_X_train, y_train)"
   ],
   "metadata": {
    "collapsed": false
   }
  },
  {
   "cell_type": "code",
   "execution_count": null,
   "outputs": [],
   "source": [
    "print(opt.best_params_)\n",
    "best_params = opt.best_params_"
   ],
   "metadata": {
    "collapsed": false
   }
  },
  {
   "cell_type": "code",
   "execution_count": null,
   "outputs": [],
   "source": [
    "xgBoostC = XGBClassifier(n_estimators=best_params[\"n_estimators\"],\n",
    "                         max_depth=best_params[\"max_depth\"],\n",
    "                         learning_rate=best_params[\"learning_rate\"],\n",
    "                         gamma=best_params[\"gamma\"],\n",
    "                         min_child_weight=best_params[\"min_child_weight\"],\n",
    "                         reg_alpha=best_params[\"reg_alpha\"],\n",
    "                         reg_lambda=best_params[\"reg_lambda\"],\n",
    "                         subsample=best_params[\"subsample\"],\n",
    "                         random_state=best_params[\"random_state\"])\n",
    "xgBoostC.fit(new_X_train, y_train)\n",
    "\n",
    "# 预测时间\n",
    "start = time.time()\n",
    "print(\"开始预测！！\")\n",
    "y_pre_xgBoostC = xgBoostC.predict(new_X_test)\n",
    "end = time.time()\n",
    "print('预测时间', end - start, 's')\n",
    "\n",
    "print('正确标签：', y_test)\n",
    "print('预测结果：', y_pre_xgBoostC)\n",
    "\n",
    "print('训练集分数：', xgBoostC.score(new_X_train, y_train))\n",
    "print('测试集分数：', xgBoostC.score(new_X_test, y_test))"
   ],
   "metadata": {
    "collapsed": false
   }
  },
  {
   "cell_type": "code",
   "execution_count": null,
   "outputs": [],
   "source": [
    "# 绘制混淆矩阵\n",
    "conf_mat = confusion_matrix(y_test, y_pre_xgBoostC)\n",
    "plt.matshow(conf_mat, cmap=plt.cm.Blues)\n",
    "for (i, j), z in np.ndenumerate(conf_mat):\n",
    "    plt.text(j, i, '{0:d}'.format(z), ha='center', va='center')\n",
    "plt.colorbar()\n",
    "plt.ylabel('真实结果', fontname=\"SimSun\", fontsize=12)\n",
    "plt.xlabel('预测结果', fontname=\"SimSun\", fontsize=12)\n",
    "plt.xticks([0, 1], [\"False\", \"True\"], fontsize=10)\n",
    "plt.yticks([0, 1], [\"False\", \"True\"], fontsize=10)\n",
    "pic_name = r\"XGBoost分类混淆矩阵\"\n",
    "plt.savefig(r'./pic/{}.png'.format(pic_name), dpi=600, bbox_inches='tight')\n",
    "plt.show()\n",
    "plt.close()\n",
    "\n",
    "print('混淆矩阵：')\n",
    "print(conf_mat)\n",
    "\n",
    "# 分类指标文本报告（精确率、召回率、F1值等）\n",
    "print('分类指标报告：')\n",
    "print(classification_report(y_test, y_pre_xgBoostC))\n",
    "\n",
    "# 特征重要性\n",
    "print(xgBoostC.feature_importances_)"
   ],
   "metadata": {
    "collapsed": false
   }
  },
  {
   "cell_type": "code",
   "execution_count": null,
   "outputs": [],
   "source": [
    "joblib.dump(xgBoostC, \"./model/xgBoostC.model\")"
   ],
   "metadata": {
    "collapsed": false
   }
  },
  {
   "cell_type": "markdown",
   "source": [
    "## 绘制ROC曲线"
   ],
   "metadata": {
    "collapsed": false
   }
  },
  {
   "cell_type": "code",
   "execution_count": null,
   "outputs": [],
   "source": [
    "blue = (52 / 255, 168 / 255, 255 / 255)\n",
    "red = (255 / 255, 25 / 255, 65 / 255)\n",
    "from sklearn.metrics import roc_curve, auc, roc_auc_score"
   ],
   "metadata": {
    "collapsed": false
   }
  },
  {
   "cell_type": "code",
   "execution_count": null,
   "outputs": [],
   "source": [
    "# 可视化在验证集上的Roc曲线\n",
    "score_rfc = rfc.predict_proba(new_X_test)[:, 1]\n",
    "score_xgc = xgBoostC.predict_proba(new_X_test)[:, 1]\n",
    "\n",
    "#使用roc_curve方法得到三个模型的真正率TP,假正率FP和阈值threshold\n",
    "fpr_rfc, tpr_rfc, threshold_rfc = roc_curve(y_test, score_rfc)\n",
    "fpr_xgc, tpr_xgc, threshold_xgc = roc_curve(y_test, score_xgc)\n",
    "\n",
    "print(\"随机森林的AUC为:\", auc(fpr_rfc, tpr_rfc))\n",
    "print(\"XGBoost的AUC为:\", auc(fpr_xgc, tpr_xgc))\n",
    "\n",
    "plt.figure(figsize=(10, 8))\n",
    "ax = plt.gca()\n",
    "plt.plot(fpr_rfc, tpr_rfc, linewidth=2, label='随机森林 (AUC={})'.format(str(round(auc(fpr_rfc, tpr_rfc), 4))),\n",
    "         color=red)\n",
    "plt.plot(fpr_xgc, tpr_xgc, linewidth=2, label='XGBoost (AUC={})'.format(str(round(auc(fpr_xgc, tpr_xgc), 4))),\n",
    "         color=blue)\n",
    "plt.rcParams['font.sans-serif'] = ['Times New Roman']\n",
    "plt.rcParams['image.interpolation'] = 'nearest'\n",
    "plt.rcParams['image.cmap'] = 'gray'\n",
    "plt.rcParams['axes.unicode_minus'] = False\n",
    "ax.plot([0, 1], [0, 1], 'k--')\n",
    "plt.xlabel(\"假正率(FP)\", fontname='SimSun', fontsize=20)\n",
    "plt.ylabel(\"真正率(TP)\", fontname='SimSun', fontsize=20)\n",
    "plt.xticks(fontsize=20)\n",
    "plt.yticks(fontsize=20)\n",
    "plt.xlim(0, 1)\n",
    "plt.ylim(0, 1)\n",
    "plt.legend(loc=\"best\", fancybox=True, fontsize=15, shadow=True)\n",
    "pic_name = r\"ROC曲线\"\n",
    "plt.savefig(r'./pic/{}.png'.format(pic_name), dpi=600, bbox_inches='tight')\n",
    "plt.show()\n",
    "plt.close()"
   ],
   "metadata": {
    "collapsed": false
   }
  },
  {
   "cell_type": "markdown",
   "source": [
    "# 回归问题"
   ],
   "metadata": {
    "collapsed": false
   }
  },
  {
   "cell_type": "code",
   "execution_count": null,
   "outputs": [],
   "source": [
    "x_label = [\"period\", \"site_no\", \"wg\", \"xig\", \"stru_damping\", \"gamma_t\"]\n",
    "y_label = [\"miu\", \"zeta\", \"kappa\"]\n",
    "df_ok_origin = df[df.ok==True]\n",
    "# df_ok_origin = df\n",
    "df_ok = df_ok_origin.copy()"
   ],
   "metadata": {
    "collapsed": false
   }
  },
  {
   "cell_type": "code",
   "execution_count": null,
   "outputs": [],
   "source": [
    "X = df_ok.loc[:, x_label].values\n",
    "y = df_ok.loc[:, y_label].values\n",
    "\n",
    "X_train, X_test, y_train, y_test = train_test_split(X, y, test_size=0.1, random_state=2, shuffle=True)"
   ],
   "metadata": {
    "collapsed": false
   }
  },
  {
   "cell_type": "code",
   "execution_count": null,
   "outputs": [],
   "source": [
    "y"
   ],
   "metadata": {
    "collapsed": false
   }
  },
  {
   "cell_type": "code",
   "execution_count": null,
   "outputs": [],
   "source": [
    "fig = plt.figure()\n",
    "ax = fig.add_subplot(projection='3d')\n",
    "ax.view_init(elev=10, azim=0)\n",
    "ax.scatter(y[:,0], y[:,1], y[:,2], alpha=0.3)\n",
    "ax.set_xlabel(r'$\\mu$', fontsize=15)\n",
    "ax.set_ylabel(r'$\\xi$', fontsize=15)\n",
    "ax.set_zlabel(r'$\\kappa$', fontsize=15)\n",
    "pic_name = r\"设计参数分布视角1\"\n",
    "plt.savefig(r'./pic/{}.png'.format(pic_name), dpi=600)\n",
    "plt.show()\n",
    "plt.close()"
   ],
   "metadata": {
    "collapsed": false
   }
  },
  {
   "cell_type": "code",
   "execution_count": null,
   "outputs": [],
   "source": [
    "fig = plt.figure()\n",
    "ax = fig.add_subplot(projection='3d')\n",
    "ax.view_init(elev=10, azim=160)\n",
    "ax.scatter(y[:,0], y[:,1], y[:,2], alpha=0.2)\n",
    "ax.set_xlabel(r'$\\mu$', fontsize=15)\n",
    "ax.set_ylabel(r'$\\xi$', fontsize=15)\n",
    "ax.set_zlabel(r'$\\kappa$', fontsize=15)\n",
    "fig.subplots_adjust()\n",
    "pic_name = r\"设计参数分布视角2\"\n",
    "plt.savefig(r'./pic/{}.png'.format(pic_name), dpi=600)\n",
    "plt.show()\n",
    "plt.close()"
   ],
   "metadata": {
    "collapsed": false
   }
  },
  {
   "cell_type": "code",
   "execution_count": null,
   "outputs": [],
   "source": [
    "fig = plt.figure()\n",
    "ax = fig.add_subplot(projection='3d')\n",
    "ax.view_init(elev=10, azim=230)\n",
    "ax.scatter(y[:,0], y[:,1], y[:,2], alpha=0.2)\n",
    "ax.set_xlabel(r'$\\mu$', fontsize=15)\n",
    "ax.set_ylabel(r'$\\xi$', fontsize=15)\n",
    "ax.set_zlabel(r'$\\kappa$', fontsize=15)\n",
    "pic_name = r\"设计参数分布视角3\"\n",
    "plt.savefig(r'./pic/{}.png'.format(pic_name), dpi=600)\n",
    "plt.show()\n",
    "plt.close()"
   ],
   "metadata": {
    "collapsed": false
   }
  },
  {
   "cell_type": "code",
   "execution_count": null,
   "outputs": [],
   "source": [
    "print(X_train.shape, X_test.shape, y_train.shape, y_test.shape)\n",
    "y_train_mu = y_train[:, 0]\n",
    "y_test_mu = y_test[:, 0]\n",
    "y_mu = y[:, 0]\n",
    "y_train_zeta = y_train[:, 1]\n",
    "y_test_zeta = y_test[:, 1]\n",
    "y_zeta = y[:, 1]\n",
    "y_train_kappa = y_train[:, 2]\n",
    "y_test_kappa = y_test[:, 2]\n",
    "y_kappa = y[:, 2]"
   ],
   "metadata": {
    "collapsed": false
   }
  },
  {
   "cell_type": "code",
   "execution_count": null,
   "outputs": [],
   "source": [
    "new_X_train = X_train\n",
    "new_X_test = X_test"
   ],
   "metadata": {
    "collapsed": false
   }
  },
  {
   "cell_type": "code",
   "execution_count": null,
   "outputs": [],
   "source": [
    "# 通用函数\n",
    "\n",
    "def plot_regression_results(ax, y_true, y_pred, title, scores, type, label):\n",
    "    \"\"\"预测目标与真实目标的散点图。\"\"\"\n",
    "    blue = (60 / 255, 160 / 255, 255 / 255)\n",
    "    red = (255 / 255, 25 / 255, 65 / 255)\n",
    "    if type:\n",
    "        color1 = red\n",
    "        color2 = (0 / 255, 0 / 255, 255 / 255)\n",
    "    else:\n",
    "        color1 = blue\n",
    "        color2 = (255 / 255, 0 / 255, 0 / 255)\n",
    "    ax.plot([y_true.min(), y_true.max()],\n",
    "            [y_true.min(), y_true.max()], '--', linewidth=2, color=color2)\n",
    "    ax.scatter(y_true, y_pred, alpha=0.25, color=color1)\n",
    "    ax.spines['top'].set_visible(False)\n",
    "    ax.spines['right'].set_visible(False)\n",
    "    ax.get_xaxis().tick_bottom()\n",
    "    ax.get_yaxis().tick_left()\n",
    "    ax.spines['left'].set_position(('outward', 10))\n",
    "    ax.spines['bottom'].set_position(('outward', 10))\n",
    "    xlim_dis = (y_true.max() - y_true.min()) * 0.08\n",
    "    ylim_dis = (y_pred.max() - y_pred.min()) * 0.08\n",
    "    ax.set_xlim([y_true.min() - xlim_dis * 0.5, y_true.max() + xlim_dis])\n",
    "    ax.set_ylim([y_pred.min() - ylim_dis * 0.5, y_pred.max() + ylim_dis])\n",
    "    ax.set_xlabel('真实值,' + label, fontname='SimSun', fontsize=12)\n",
    "    ax.set_ylabel('预测值', fontname='SimSun', fontsize=12)\n",
    "    extra = plt.Rectangle((0, 0), 0, 0, fc=\"w\", fill=False,\n",
    "                          edgecolor='none', linewidth=0)\n",
    "    ax.legend([extra], [scores], loc='upper left', shadow=True)\n",
    "    ax.set_title(title, fontname='SimSun', fontsize=15)\n",
    "\n",
    "def rmsle(y, y_pred):\n",
    "    return np.sqrt(mean_squared_error(y, y_pred))\n",
    "\n",
    "\n",
    "def plot_true_predict_pic(y_true, y_pred, model_name, type, label):\n",
    "    r2 = r2_score(y_true, y_pred)\n",
    "    mae = mean_absolute_error(y_true, y_pred)\n",
    "    mse = mean_squared_error(y_true, y_pred)\n",
    "    rmse = np.sqrt(mse)\n",
    "    mape = mean_absolute_percentage_error(y_true, y_pred)\n",
    "    msle = mean_squared_log_error(y_true, y_pred)\n",
    "    rmsle = np.sqrt(msle)\n",
    "\n",
    "    plt.figure(figsize=(6, 5))\n",
    "    ax = plt.gca()\n",
    "    plot_regression_results(\n",
    "        ax, y_true, y_pred,\n",
    "        model_name,\n",
    "        (r'$R^2={:.4f}$' + '\\n' +\n",
    "         r'$MAE={:.4f}$' + '\\n' +\n",
    "         r'$RMSE={:.4f}$' + '\\n' +\n",
    "         r'$MAPE={:.4f}$' + '\\n' +\n",
    "         r'$RMSLE={:.4f}$')\n",
    "        .format(r2, mae, rmse, mape, rmsle), type, label)\n",
    "\n",
    "\n",
    "def plot_true_predict_pic_time(y_true, y_pred, model_name, type, label, pred_time):\n",
    "    r2 = r2_score(y_true, y_pred)\n",
    "    mae = mean_absolute_error(y_true, y_pred)\n",
    "    mse = mean_squared_error(y_true, y_pred)\n",
    "    rmse = np.sqrt(mse)\n",
    "    mape = mean_absolute_percentage_error(y_true, y_pred)\n",
    "    # mape = 0\n",
    "    msle = mean_squared_log_error(y_true, y_pred)\n",
    "    # msle = 0\n",
    "    rmsle = np.sqrt(msle)\n",
    "\n",
    "    plt.figure(figsize=(6, 5))\n",
    "    ax = plt.gca()\n",
    "    plot_regression_results(\n",
    "        ax, y_true, y_pred,\n",
    "        model_name,\n",
    "        (r'$R^2={:.4f}$' + '\\n' +\n",
    "         r'$MAE={:.4f}$' + '\\n' +\n",
    "         r'$RMSE={:.4f}$' + '\\n' +\n",
    "         r'$MAPE={:.4f}$' + '\\n' +\n",
    "         r'$RMSLE={:.4f}$' + '\\n' +\n",
    "         r'预测时间$={:.4f}s$')\n",
    "        .format(r2, mae, rmse, mape, rmsle, pred_time), type, label)\n",
    "\n",
    "def plot_true_predict_pic_time2(y_true, y_pred, model_name, type, label, pred_time):\n",
    "    r2 = r2_score(y_true, y_pred)\n",
    "    mae = mean_absolute_error(y_true, y_pred)\n",
    "    mse = mean_squared_error(y_true, y_pred)\n",
    "    rmse = np.sqrt(mse)\n",
    "\n",
    "    plt.figure(figsize=(6, 5))\n",
    "    ax = plt.gca()\n",
    "    plot_regression_results(\n",
    "        ax, y_true, y_pred,\n",
    "        model_name,\n",
    "        (r'$R^2={:.4f}$' + '\\n' +\n",
    "         r'$MAE={:.4f}$' + '\\n' +\n",
    "         r'$RMSE={:.4f}$' + '\\n' +\n",
    "         r'预测时间$={:.4f}s$')\n",
    "        .format(r2, mae, rmse, pred_time), type, label)"
   ],
   "metadata": {
    "collapsed": false
   }
  },
  {
   "cell_type": "markdown",
   "source": [
    "## 随机森林"
   ],
   "metadata": {
    "collapsed": false
   }
  },
  {
   "cell_type": "code",
   "execution_count": null,
   "outputs": [],
   "source": [
    "rfr_mu = RandomForestRegressor()\n",
    "rfr_zeta = RandomForestRegressor()\n",
    "rfr_kappa = RandomForestRegressor()\n",
    "\n",
    "param_grid = {'max_depth': np.arange(start=10, stop=500, step=10, dtype=int),\n",
    "              'n_estimators': np.arange(start=50, stop=1000, step=50, dtype=int),\n",
    "              'max_features': np.arange(start=1, stop=12, step=1, dtype=int),\n",
    "              'min_samples_leaf': np.array([2, 5, 10, 15], dtype=int),\n",
    "              'min_samples_split': np.array([2, 5, 10, 15], dtype=int),\n",
    "              'random_state': [3]}\n",
    "opt_mu = BayesSearchCV(rfr_mu, param_grid, n_iter=50, n_jobs=5, cv=3)\n",
    "opt_zeta = BayesSearchCV(rfr_zeta, param_grid, n_iter=50, n_jobs=5, cv=3)\n",
    "opt_kappa = BayesSearchCV(rfr_kappa, param_grid, n_iter=50, n_jobs=5, cv=3)\n",
    "\n",
    "opt_mu.fit(new_X_train, y_train_mu)\n",
    "opt_zeta.fit(new_X_train, y_train_zeta)\n",
    "opt_kappa.fit(new_X_train, y_train_kappa)"
   ],
   "metadata": {
    "collapsed": false
   }
  },
  {
   "cell_type": "code",
   "execution_count": null,
   "outputs": [],
   "source": [
    "best_params_mu = opt_mu.best_params_\n",
    "best_params_mu"
   ],
   "metadata": {
    "collapsed": false
   }
  },
  {
   "cell_type": "code",
   "execution_count": null,
   "outputs": [],
   "source": [
    "best_params_zeta = opt_zeta.best_params_\n",
    "best_params_zeta"
   ],
   "metadata": {
    "collapsed": false
   }
  },
  {
   "cell_type": "code",
   "execution_count": null,
   "outputs": [],
   "source": [
    "best_params_kappa = opt_kappa.best_params_\n",
    "best_params_kappa"
   ],
   "metadata": {
    "collapsed": false
   }
  },
  {
   "cell_type": "markdown",
   "source": [
    "### mu"
   ],
   "metadata": {
    "collapsed": false
   }
  },
  {
   "cell_type": "code",
   "execution_count": null,
   "outputs": [],
   "source": [
    "rfr_mu = RandomForestRegressor(max_depth=best_params_mu[\"max_depth\"],\n",
    "                                      n_estimators=best_params_mu[\"n_estimators\"],\n",
    "                                      max_features=best_params_mu[\"max_features\"],\n",
    "                                      min_samples_leaf=best_params_mu[\"min_samples_leaf\"],\n",
    "                                      min_samples_split=best_params_mu[\"min_samples_split\"],\n",
    "                                      random_state=best_params_mu[\"random_state\"]\n",
    "                                      )\n",
    "rfr_mu.fit(new_X_train, y_train_mu)\n",
    "# rfr_mu.fit(X, y_mu)\n",
    "# 预测时间\n",
    "start = time.time()\n",
    "print(\"开始预测！！\")\n",
    "train_pred_mu = rfr_mu.predict(new_X_train)\n",
    "pred_mu = rfr_mu.predict(new_X_test)\n",
    "end = time.time()\n",
    "print('预测时间', end - start, 's')\n",
    "print(rmsle(y_train_mu, train_pred_mu))\n",
    "plot_true_predict_pic_time(y_test_mu, pred_mu, \"随机森林模型\", True, r'$\\mu$', end-start)\n",
    "pic_name = r\"随机森林_mu\"\n",
    "plt.savefig(r'./pic/{}.png'.format(pic_name), dpi=600, bbox_inches='tight')\n",
    "plt.show()\n",
    "plt.close()"
   ],
   "metadata": {
    "collapsed": false
   }
  },
  {
   "cell_type": "code",
   "execution_count": null,
   "outputs": [],
   "source": [
    "plot_true_predict_pic_time(y_train_mu, train_pred_mu, \"随机森林模型\", True, r'$\\mu$', end-start)"
   ],
   "metadata": {
    "collapsed": false
   }
  },
  {
   "cell_type": "markdown",
   "source": [
    "### zeta"
   ],
   "metadata": {
    "collapsed": false
   }
  },
  {
   "cell_type": "code",
   "execution_count": null,
   "outputs": [],
   "source": [
    "rfr_zeta = RandomForestRegressor(max_depth=best_params_zeta[\"max_depth\"],\n",
    "                                      n_estimators=best_params_zeta[\"n_estimators\"],\n",
    "                                      max_features=best_params_zeta[\"max_features\"],\n",
    "                                      min_samples_leaf=best_params_zeta[\"min_samples_leaf\"],\n",
    "                                      min_samples_split=best_params_zeta[\"min_samples_split\"],\n",
    "                                      random_state=best_params_zeta[\"random_state\"]\n",
    "                                      )\n",
    "rfr_zeta.fit(new_X_train, y_train_zeta)\n",
    "# rfr_zeta.fit(X, y_zeta)\n",
    "# 预测时间\n",
    "start = time.time()\n",
    "print(\"开始预测！！\")\n",
    "train_pred_zeta = rfr_zeta.predict(new_X_train)\n",
    "pred_zeta = rfr_zeta.predict(new_X_test)\n",
    "print(rmsle(y_train_zeta, train_pred_zeta))\n",
    "end = time.time()\n",
    "print('预测时间', end - start, 's')\n",
    "plot_true_predict_pic_time(y_test_zeta, pred_zeta, \"随机森林模型\", True, r'$\\xi$', end-start)\n",
    "pic_name = r\"随机森林_zeta\"\n",
    "plt.savefig(r'./pic/{}.png'.format(pic_name), dpi=600, bbox_inches='tight')\n",
    "plt.show()\n",
    "plt.close()"
   ],
   "metadata": {
    "collapsed": false
   }
  },
  {
   "cell_type": "code",
   "execution_count": null,
   "outputs": [],
   "source": [
    "np.min(pred_zeta)"
   ],
   "metadata": {
    "collapsed": false
   }
  },
  {
   "cell_type": "code",
   "execution_count": null,
   "outputs": [],
   "source": [
    "plot_true_predict_pic_time(y_train_zeta, train_pred_zeta, \"随机森林模型\", True, r'$\\mu$', end-start)"
   ],
   "metadata": {
    "collapsed": false
   }
  },
  {
   "cell_type": "markdown",
   "source": [
    "### kappa"
   ],
   "metadata": {
    "collapsed": false
   }
  },
  {
   "cell_type": "code",
   "execution_count": null,
   "outputs": [],
   "source": [
    "rfr_kappa = RandomForestRegressor(max_depth=best_params_kappa[\"max_depth\"],\n",
    "                                  n_estimators=best_params_kappa[\"n_estimators\"],\n",
    "                                  max_features=best_params_kappa[\"max_features\"],\n",
    "                                  min_samples_leaf=best_params_kappa[\"min_samples_leaf\"],\n",
    "                                  min_samples_split=best_params_kappa[\"min_samples_split\"],\n",
    "                                  random_state=best_params_kappa[\"random_state\"]\n",
    "                                  )\n",
    "rfr_kappa.fit(new_X_train, y_train_kappa)\n",
    "# rfr_kappa.fit(X, y_kappa)\n",
    "# 预测时间\n",
    "start = time.time()\n",
    "print(\"开始预测！！\")\n",
    "train_pred_kappa = rfr_kappa.predict(new_X_train)\n",
    "pred_kappa = rfr_kappa.predict(new_X_test)\n",
    "print(rmsle(y_train_kappa, train_pred_kappa))\n",
    "end = time.time()\n",
    "print('预测时间', end - start, 's')\n",
    "plot_true_predict_pic_time(y_test_kappa, pred_kappa, \"随机森林模型\", True, r'$\\kappa$', end-start)\n",
    "pic_name = r\"随机森林_kappa\"\n",
    "plt.savefig(r'./pic/{}.png'.format(pic_name), dpi=600, bbox_inches='tight')\n",
    "plt.show()\n",
    "plt.close()"
   ],
   "metadata": {
    "collapsed": false
   }
  },
  {
   "cell_type": "code",
   "execution_count": null,
   "outputs": [],
   "source": [
    "plot_true_predict_pic_time(y_train_kappa, train_pred_kappa, \"随机森林模型\", True, r'$\\mu$', end-start)"
   ],
   "metadata": {
    "collapsed": false
   }
  },
  {
   "cell_type": "code",
   "execution_count": null,
   "outputs": [],
   "source": [
    "joblib.dump(rfr_mu, \"./model/rfr_mu.model\")\n",
    "joblib.dump(rfr_zeta, \"./model/rfr_zeta.model\")\n",
    "joblib.dump(rfr_kappa, \"./model/rfr_kappa.model\")"
   ],
   "metadata": {
    "collapsed": false
   }
  },
  {
   "cell_type": "markdown",
   "source": [
    "## XGBoost"
   ],
   "metadata": {
    "collapsed": false
   }
  },
  {
   "cell_type": "code",
   "execution_count": null,
   "outputs": [],
   "source": [
    "df.describe()"
   ],
   "metadata": {
    "collapsed": false
   }
  },
  {
   "cell_type": "code",
   "execution_count": null,
   "outputs": [],
   "source": [
    "x_label = [\"period\", \"site_no\", \"wg\", \"xig\", \"stru_damping\", \"gamma_t\"]\n",
    "y_label = [\"miu\", \"zeta\", \"kappa\"]\n",
    "df_ok_origin = df[df.ok == True]\n",
    "# df_ok_origin = df\n",
    "df_ok = df_ok_origin.copy()\n",
    "X = df_ok.loc[:, x_label].values\n",
    "y = df_ok.loc[:, y_label].values\n",
    "\n",
    "X_train, X_test, y_train, y_test = train_test_split(X, y, test_size=0.1, random_state=2, shuffle=True)\n",
    "\n",
    "print(X_train.shape, X_test.shape, y_train.shape, y_test.shape)\n",
    "\n",
    "from sklearn.preprocessing import StandardScaler\n",
    "\n",
    "y_train_mu = y_train[:, 0].reshape(-1, 1)\n",
    "y_test_mu = y_test[:, 0].reshape(-1, 1)\n",
    "scaler_mu = StandardScaler()\n",
    "y_train_mu_sc = scaler_mu.fit_transform(y_train_mu)\n",
    "y_test_mu_sc = scaler_mu.transform(y_test_mu)\n",
    "\n",
    "\n",
    "y_train_zeta = y_train[:, 1].reshape(-1, 1)\n",
    "y_test_zeta = y_test[:, 1].reshape(-1, 1)\n",
    "scaler_zeta = StandardScaler()\n",
    "y_train_zeta_sc = scaler_zeta.fit_transform(y_train_zeta)\n",
    "y_test_zeta_sc = scaler_zeta.transform(y_test_zeta)\n",
    "\n",
    "\n",
    "\n",
    "y_train_kappa = y_train[:, 2].reshape(-1, 1)\n",
    "y_test_kappa = y_test[:, 2].reshape(-1, 1)\n",
    "scaler_kappa = StandardScaler()\n",
    "y_train_kappa_sc = scaler_kappa.fit_transform(y_train_kappa)\n",
    "y_test_kappa_sc = scaler_kappa.transform(y_test_kappa)"
   ],
   "metadata": {
    "collapsed": false
   }
  },
  {
   "cell_type": "code",
   "execution_count": null,
   "outputs": [],
   "source": [
    "param_grid = {'learning_rate': np.array([0.01, 0.015, 0.025, 0.05, 0.1], dtype=float),\n",
    "               'gamma': np.array([0, 0.05, 0.1, 0.3, 0.5, 0.7, 0.9, 1], dtype=float),\n",
    "               \"reg_alpha\": np.array([0, 0.01, 0.1, 1], dtype=float),\n",
    "               \"reg_lambda\": np.array([0, 0.1, 0.5, 1], dtype=float),\n",
    "               \"min_child_weight\": np.array([1, 3, 5, 7], dtype=int),\n",
    "               'subsample': np.array([0.5, 0.6, 0.7, 0.8, 0.9, 1], dtype=float),\n",
    "               'max_depth': np.arange(start=10, stop=500, step=10, dtype=int),\n",
    "               'n_estimators': np.arange(start=50, stop=1000, step=50, dtype=int),\n",
    "               'random_state': [3]}\n",
    "xgb_mu = XGBRegressor()\n",
    "xgb_zeta = XGBRegressor()\n",
    "xgb_kappa = XGBRegressor()\n",
    "\n",
    "xgb_opt_mu = BayesSearchCV(xgb_mu, param_grid, n_iter=5, n_jobs=5, cv=3)\n",
    "xgb_opt_zeta = BayesSearchCV(xgb_zeta, param_grid, n_iter=5, n_jobs=5, cv=3)\n",
    "xgb_opt_kappa = BayesSearchCV(xgb_kappa, param_grid, n_iter=5, n_jobs=5, cv=3)\n",
    "\n",
    "xgb_opt_mu.fit(new_X_train, y_train_mu_sc)\n",
    "xgb_opt_zeta.fit(new_X_train, y_train_zeta_sc)\n",
    "xgb_opt_kappa.fit(new_X_train, y_train_kappa_sc)\n",
    "\n",
    "# xgb_opt_mu.fit(X, y_mu)\n",
    "# xgb_opt_zeta.fit(X, y_zeta)\n",
    "# xgb_opt_kappa.fit(X, y_kappa)"
   ],
   "metadata": {
    "collapsed": false
   }
  },
  {
   "cell_type": "code",
   "execution_count": null,
   "outputs": [],
   "source": [
    "xgb_best_params_mu = xgb_opt_mu.best_params_\n",
    "xgb_best_params_mu"
   ],
   "metadata": {
    "collapsed": false
   }
  },
  {
   "cell_type": "code",
   "execution_count": null,
   "outputs": [],
   "source": [
    "xgb_best_params_zeta = xgb_opt_zeta.best_params_\n",
    "xgb_best_params_zeta"
   ],
   "metadata": {
    "collapsed": false
   }
  },
  {
   "cell_type": "code",
   "execution_count": null,
   "outputs": [],
   "source": [
    "xgb_best_params_kappa = xgb_opt_kappa.best_params_\n",
    "xgb_best_params_kappa"
   ],
   "metadata": {
    "collapsed": false
   }
  },
  {
   "cell_type": "markdown",
   "source": [
    "### mu"
   ],
   "metadata": {
    "collapsed": false
   }
  },
  {
   "cell_type": "code",
   "execution_count": null,
   "outputs": [],
   "source": [
    "xgb_mu = XGBRegressor(learning_rate=xgb_best_params_mu[\"learning_rate\"],\n",
    "                             reg_alpha=xgb_best_params_mu[\"reg_alpha\"],\n",
    "                             reg_lambda=xgb_best_params_mu[\"reg_lambda\"],\n",
    "                             min_child_weight=xgb_best_params_mu[\"min_child_weight\"],\n",
    "                             subsample=xgb_best_params_mu[\"subsample\"],\n",
    "                             max_depth=xgb_best_params_mu[\"max_depth\"],\n",
    "                             n_estimators=xgb_best_params_mu[\"n_estimators\"],\n",
    "                             random_state=xgb_best_params_mu[\"random_state\"])\n",
    "xgb_mu.fit(new_X_train, y_train_mu_sc)\n",
    "# 预测时间\n",
    "start = time.time()\n",
    "print(\"开始预测！！\")\n",
    "xgb_train_pred_mu = xgb_mu.predict(new_X_train)\n",
    "xgb_train_pred_mu = scaler_mu.inverse_transform(xgb_train_pred_mu.reshape(-1, 1))\n",
    "xgb_pred_mu = xgb_mu.predict(new_X_test)\n",
    "xgb_pred_mu = scaler_mu.inverse_transform(xgb_pred_mu.reshape(-1, 1))\n",
    "print(rmsle(y_train_mu, xgb_train_pred_mu))\n",
    "end = time.time()\n",
    "print('预测时间', end - start, 's')\n",
    "plot_true_predict_pic_time2(y_test_mu, xgb_pred_mu, \"XGBoost模型\", False, r'$\\mu$', end-start)\n",
    "pic_name = r\"XGBoost_mu\"\n",
    "plt.savefig(r'./pic/{}.png'.format(pic_name), dpi=600, bbox_inches='tight')\n",
    "plt.show()\n",
    "plt.close()"
   ],
   "metadata": {
    "collapsed": false
   }
  },
  {
   "cell_type": "markdown",
   "source": [
    "### zeta"
   ],
   "metadata": {
    "collapsed": false
   }
  },
  {
   "cell_type": "code",
   "execution_count": null,
   "outputs": [],
   "source": [
    "xgb_zeta = XGBRegressor(learning_rate=xgb_best_params_zeta[\"learning_rate\"],\n",
    "                             reg_alpha=xgb_best_params_zeta[\"reg_alpha\"],\n",
    "                             reg_lambda=xgb_best_params_zeta[\"reg_lambda\"],\n",
    "                             min_child_weight=xgb_best_params_zeta[\"min_child_weight\"],\n",
    "                             subsample=xgb_best_params_zeta[\"subsample\"],\n",
    "                             max_depth=xgb_best_params_zeta[\"max_depth\"],\n",
    "                             n_estimators=xgb_best_params_zeta[\"n_estimators\"],\n",
    "                             random_state=xgb_best_params_zeta[\"random_state\"])\n",
    "xgb_zeta.fit(new_X_train, y_train_zeta_sc)\n",
    "# xgb_zeta.fit(X, y_zeta)\n",
    "# 预测时间\n",
    "start = time.time()\n",
    "print(\"开始预测！！\")\n",
    "xgb_train_pred_zeta = xgb_zeta.predict(new_X_train)\n",
    "xgb_train_pred_zeta = scaler_zeta.inverse_transform(xgb_train_pred_zeta.reshape(-1, 1))\n",
    "xgb_pred_zeta = xgb_zeta.predict(new_X_test)\n",
    "xgb_pred_zeta = scaler_zeta.inverse_transform(xgb_pred_zeta.reshape(-1, 1))\n",
    "print(rmsle(y_train_zeta, xgb_train_pred_zeta))\n",
    "end = time.time()\n",
    "print('预测时间', end - start, 's')\n",
    "plot_true_predict_pic_time2(y_test_zeta, xgb_pred_zeta, \"XGBoost模型\", False, r'$\\zeta$', end-start)\n",
    "pic_name = r\"XGBoost_zeta\"\n",
    "plt.savefig(r'./pic/{}.png'.format(pic_name), dpi=600, bbox_inches='tight')\n",
    "plt.show()\n",
    "plt.close()"
   ],
   "metadata": {
    "collapsed": false
   }
  },
  {
   "cell_type": "code",
   "execution_count": null,
   "outputs": [],
   "source": [
    "np.min(xgb_pred_zeta)"
   ],
   "metadata": {
    "collapsed": false
   }
  },
  {
   "cell_type": "markdown",
   "source": [
    "### kappa"
   ],
   "metadata": {
    "collapsed": false
   }
  },
  {
   "cell_type": "code",
   "execution_count": null,
   "outputs": [],
   "source": [
    "xgb_kappa = XGBRegressor(learning_rate=xgb_best_params_kappa[\"learning_rate\"],\n",
    "                             reg_alpha=xgb_best_params_kappa[\"reg_alpha\"],\n",
    "                             reg_lambda=xgb_best_params_kappa[\"reg_lambda\"],\n",
    "                             min_child_weight=xgb_best_params_kappa[\"min_child_weight\"],\n",
    "                             subsample=xgb_best_params_kappa[\"subsample\"],\n",
    "                             max_depth=xgb_best_params_kappa[\"max_depth\"],\n",
    "                             n_estimators=xgb_best_params_kappa[\"n_estimators\"],\n",
    "                             random_state=xgb_best_params_kappa[\"random_state\"])\n",
    "xgb_kappa.fit(new_X_train, y_train_kappa_sc)\n",
    "# xgb_kappa.fit(X, y_kappa)\n",
    "# 预测时间\n",
    "start = time.time()\n",
    "print(\"开始预测！！\")\n",
    "xgb_train_pred_kappa = xgb_kappa.predict(new_X_train)\n",
    "xgb_train_pred_kappa = scaler_kappa.inverse_transform(xgb_train_pred_kappa.reshape(-1, 1))\n",
    "xgb_pred_kappa = xgb_kappa.predict(new_X_test)\n",
    "xgb_pred_kappa = scaler_kappa.inverse_transform(xgb_pred_kappa.reshape(-1, 1))\n",
    "print(rmsle(y_train_kappa, xgb_train_pred_kappa))\n",
    "end = time.time()\n",
    "print('预测时间', end - start, 's')\n",
    "plot_true_predict_pic_time(y_test_kappa, xgb_pred_kappa, \"XGBoost模型\", False, r'$\\kappa$', end-start)\n",
    "pic_name = r\"XGBoost_kappa\"\n",
    "plt.savefig(r'./pic/{}.png'.format(pic_name), dpi=600, bbox_inches='tight')\n",
    "plt.show()\n",
    "plt.close()"
   ],
   "metadata": {
    "collapsed": false
   }
  },
  {
   "cell_type": "code",
   "execution_count": null,
   "outputs": [],
   "source": [
    "joblib.dump(xgb_mu, \"./model/xgb_mu.model\")\n",
    "joblib.dump(xgb_kappa, \"./model/xgb_kappa.model\")\n",
    "joblib.dump(xgb_zeta, \"./model/xgb_zeta.model\")"
   ],
   "metadata": {
    "collapsed": false
   }
  }
 ],
 "metadata": {
  "kernelspec": {
   "display_name": "Python 3",
   "language": "python",
   "name": "python3"
  },
  "language_info": {
   "codemirror_mode": {
    "name": "ipython",
    "version": 2
   },
   "file_extension": ".py",
   "mimetype": "text/x-python",
   "name": "python",
   "nbconvert_exporter": "python",
   "pygments_lexer": "ipython2",
   "version": "2.7.6"
  }
 },
 "nbformat": 4,
 "nbformat_minor": 0
}
