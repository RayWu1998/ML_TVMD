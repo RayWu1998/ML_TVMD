{
 "cells": [
  {
   "cell_type": "code",
   "execution_count": null,
   "outputs": [],
   "source": [
    "from control import lqr\n",
    "from common_function import newmark, eigenvalue\n",
    "import numpy as np\n",
    "from matplotlib import pyplot as plt\n",
    "import os, re\n",
    "import pandas as pd"
   ],
   "metadata": {
    "collapsed": false,
    "pycharm": {
     "is_executing": true
    }
   }
  },
  {
   "cell_type": "code",
   "execution_count": null,
   "outputs": [],
   "source": [
    "m = 20  # 单位：kg\n",
    "k = 2700  # 单位：N/m\n",
    "M = np.array([[m]])\n",
    "K = np.array([[k]])\n",
    "zeta = 0.02  # 结构固有阻尼比\n",
    "\n",
    "w, T, phi, gamma, M_par = eigenvalue(M, K)\n",
    "w0 = w[0]"
   ],
   "metadata": {
    "collapsed": false
   }
  },
  {
   "cell_type": "code",
   "execution_count": null,
   "outputs": [],
   "source": [
    "c = 2 * zeta * m * w0"
   ],
   "metadata": {
    "collapsed": false
   }
  },
  {
   "cell_type": "code",
   "execution_count": null,
   "outputs": [],
   "source": [
    "mu = 0.0761\n",
    "ksi = 0.0072\n",
    "kpa = 0.0791\n",
    "md0 = mu * m\n",
    "cd0 = 2 * ksi * m * w0\n",
    "kd0 = kpa * k"
   ],
   "metadata": {
    "collapsed": false
   }
  },
  {
   "cell_type": "code",
   "execution_count": null,
   "outputs": [],
   "source": [
    "# 半主动惯容基本参数\n",
    "min_max = md0\n",
    "min_min = 0\n",
    "cd_max = cd0\n",
    "cd_min = 0\n",
    "kpa = 10\n",
    "kd = kpa * k"
   ],
   "metadata": {
    "collapsed": false
   }
  },
  {
   "cell_type": "code",
   "execution_count": null,
   "outputs": [],
   "source": [
    "# 状态空间矩阵\n",
    "A = np.array([[0, 1], [-w0 ** 2, -2 * zeta * w0]], dtype=float)\n",
    "B = np.array([[0, 0], [0, -1 / m]], dtype=float)"
   ],
   "metadata": {
    "collapsed": false
   }
  },
  {
   "cell_type": "code",
   "execution_count": null,
   "outputs": [],
   "source": [
    "wave = 0\n",
    "dt = 0\n",
    "name = \"white_noise_190117_3.txt\"\n",
    "root = \"./waves\"\n",
    "print(name)\n",
    "wave_name = name.split('.')[0]\n",
    "if name.endswith(\".AT2\"):\n",
    "    filename = os.path.join(root, name)\n",
    "    with open(filename, 'r') as fo:\n",
    "        for i in range(3):\n",
    "            fo.readline()\n",
    "        line = fo.readline()\n",
    "        target = re.search(r'DT= *(.*) *SEC', line, re.I | re.M)\n",
    "        dt = float(target.group(1))\n",
    "        wave = pd.read_table(filename, skiprows=4, sep=\"  \", header=None, engine='python')\n",
    "        wave = wave.fillna(0)\n",
    "        wave = wave.values\n",
    "        size = wave.size\n",
    "        wave = wave.reshape((size,))\n",
    "if name.endswith(\".txt\"):\n",
    "    filename = os.path.join(root, name)\n",
    "    wave = np.loadtxt(filename)\n",
    "    dt = 0.02\n",
    "wave = wave / max(abs(wave)) * 0.3 * 9.8\n",
    "wave_len = len(wave)\n",
    "time = np.arange(0, wave_len * dt, dt)"
   ],
   "metadata": {
    "collapsed": false
   }
  },
  {
   "cell_type": "code",
   "execution_count": null,
   "outputs": [],
   "source": [
    "# 加速度插值\n",
    "dt_s = 0.001\n",
    "t_s = np.arange(0, max(time), dt_s)\n",
    "wave_s = np.interp(t_s, time, wave)\n",
    "wave_len_s = len(wave_s)"
   ],
   "metadata": {
    "collapsed": false
   }
  },
  {
   "cell_type": "code",
   "execution_count": null,
   "outputs": [],
   "source": [
    "wave_s"
   ],
   "metadata": {
    "collapsed": false
   }
  },
  {
   "cell_type": "code",
   "execution_count": null,
   "outputs": [],
   "source": [
    "# 原结构\n",
    "u0 = np.zeros([2, wave_len_s])\n",
    "du0 = np.zeros([2, wave_len_s])\n",
    "du0[1, 0] = -wave_s[0]\n",
    "for i in range(0, wave_len_s - 1):\n",
    "    p = np.array([[0], [-wave_s[i]]])\n",
    "    du0[..., i + 1, None] = np.dot(A, u0[..., i, None]) + p\n",
    "    u0[..., i + 1] = u0[..., i] + du0[..., i + 1] * dt_s"
   ],
   "metadata": {
    "collapsed": false
   }
  },
  {
   "cell_type": "code",
   "execution_count": null,
   "outputs": [],
   "source": [
    "M0 = np.array(m, ndmin=2, dtype=float)\n",
    "C0 = np.array(c, ndmin=2, dtype=float)\n",
    "K0 = np.array(k, ndmin=2, dtype=float)\n",
    "E0 = np.array(1, ndmin=2, dtype=float)\n",
    "y, dy, ddy, ddy_ab = newmark(K0, M0, C0, wave_s, dt, E0)"
   ],
   "metadata": {
    "collapsed": false
   }
  },
  {
   "cell_type": "code",
   "execution_count": null,
   "outputs": [],
   "source": [
    "plt.plot(t_s, u0[0, :].reshape(-1))\n",
    "plt.plot(t_s, y.reshape(-1))"
   ],
   "metadata": {
    "collapsed": false
   }
  },
  {
   "cell_type": "code",
   "execution_count": null,
   "outputs": [],
   "source": [
    "# 被动控制结构\n",
    "M = np.array([[m, 0], [0, md0]], ndmin=2, dtype=float)\n",
    "K = np.array([[k + kd0, -kd0], [-kd0, kd0]], ndmin=2, dtype=float)\n",
    "C = np.array([[c, 0], [0, cd0]], ndmin=2, dtype=float)\n",
    "E = np.array([[1], [0]], ndmin=2, dtype=float)\n",
    "u1, du1, _, ddu1_ab = newmark(K, M, C, wave_s, dt_s, E)"
   ],
   "metadata": {
    "collapsed": false
   }
  },
  {
   "cell_type": "code",
   "execution_count": null,
   "outputs": [],
   "source": [
    "plt.plot(t_s, u0[0, :].reshape(-1))\n",
    "plt.plot(t_s, u1[0, :])"
   ],
   "metadata": {
    "collapsed": false
   }
  },
  {
   "cell_type": "code",
   "execution_count": null,
   "outputs": [],
   "source": [
    "# 反馈增益矩阵\n",
    "Q = np.diag([100, 0])\n",
    "R = np.diag([1e-7, 1e-7])\n",
    "D, _, _ = lqr(A, B, Q, R)\n",
    "D = -D"
   ],
   "metadata": {
    "collapsed": false
   }
  },
  {
   "cell_type": "code",
   "execution_count": null,
   "outputs": [],
   "source": [
    "# 半主动控制结构\n",
    "u2 = np.zeros([2, wave_len_s])\n",
    "du2 = np.zeros([2, wave_len_s])\n",
    "du2[1, 0] = -wave_s[0]\n",
    "F = np.zeros([2, wave_len_s])\n",
    "ft = np.zeros(wave_len_s)\n",
    "ud = np.zeros(wave_len_s)\n",
    "dud = np.zeros(wave_len_s)\n",
    "ddud = np.zeros(wave_len_s)\n",
    "fmax = np.zeros(wave_len_s)\n",
    "fmin = np.zeros(wave_len_s)\n",
    "fa = np.zeros(wave_len_s)\n",
    "\n",
    "ud_pre = 0\n",
    "dud_pre = 0\n",
    "\n",
    "for i in range(wave_len_s - 1):\n",
    "    p = np.array([[0], [-wave_s[i]]])  # 当前荷载向量\n",
    "    F[:, i, None] = np.dot(D, u2[:, i, None])  # 当前反馈力\n",
    "    ft[i] = F[1, i]  # 当前目标出力\n",
    "    ud[i] = u2[0, i] - ft[i] / kd  # 当前惯容位移\n",
    "    dud[i] = (ud[i] - ud_pre) / dt_s  # 当前惯容速度\n",
    "    ddud[i] = (dud[i] - dud_pre) / dt_s  # 当前惯容加速度\n",
    "    ud_pre = ud[i]\n",
    "    dud_pre = dud[i]\n",
    "\n",
    "    # 当前出力上限\n",
    "    fmax[i] = max(\n",
    "        [min_max * ddud[i] + cd_max * dud[i],\n",
    "         min_max * ddud[i] + cd_min * dud[i],\n",
    "         min_min * ddud[i] + cd_max * dud[i],\n",
    "         min_min * ddud[i] + cd_min * dud[i]])\n",
    "    # 当前出力下限\n",
    "    fmin[i] = min([min_max * ddud[i] + cd_max * dud[i],\n",
    "                   min_max * ddud[i] + cd_min * dud[i],\n",
    "                   min_min * ddud[i] + cd_max * dud[i],\n",
    "                   min_min * ddud[i] + cd_min * dud[i]])\n",
    "    if ft[i] < fmin[i]:\n",
    "        fa[i] = fmin[i]\n",
    "    elif ft[i] > fmax[i]:\n",
    "        fa[i] = fmax[i]\n",
    "    else:\n",
    "        fa[i] = ft[i]\n",
    "    F[1, i] = fa[i]\n",
    "    du2[:, i + 1, None] = np.dot(A, u2[..., i, None]) + np.dot(B, F[..., i, None])  + p\n",
    "    u2[..., i + 1] = u2[..., i] + du2[..., i + 1] * dt_s"
   ],
   "metadata": {
    "collapsed": false
   }
  },
  {
   "cell_type": "code",
   "execution_count": null,
   "outputs": [],
   "source": [
    "plt.plot(t_s, u0[0, :].reshape(-1))\n",
    "plt.plot(t_s, u1[0, :])\n",
    "plt.plot(t_s, u2[0, :])"
   ],
   "metadata": {
    "collapsed": false
   }
  },
  {
   "cell_type": "code",
   "execution_count": null,
   "outputs": [],
   "source": [
    "plt.plot(t_s[0: 100], fmax[0: 100])\n",
    "plt.plot(t_s[0: 100], fmin[0: 100])\n",
    "plt.plot(t_s[0: 100], fa[0: 100])"
   ],
   "metadata": {
    "collapsed": false
   }
  },
  {
   "cell_type": "code",
   "execution_count": null,
   "outputs": [],
   "source": [
    "plt.plot(t_s, ud)"
   ],
   "metadata": {
    "collapsed": false
   }
  },
  {
   "cell_type": "code",
   "execution_count": null,
   "outputs": [],
   "source": [
    "y = u2[0, :]\n",
    "dy = u2[1, :]\n",
    "ddy_ab = du2[1, :]"
   ],
   "metadata": {
    "collapsed": false
   }
  },
  {
   "cell_type": "code",
   "execution_count": null,
   "outputs": [],
   "source": [
    "length = len(y)\n",
    "numpy_data = np.zeros([length, 9])\n",
    "data = pd.DataFrame(data=numpy_data, columns=[\"str_cur_disp\", \"str_cur_vel\", \"str_cur_acc\", \"str_pre_disp\", \"str_pre_vel\", \"str_pre_acc\", \"ft_pre\", \"ft_cur\", \"ft_next\"])"
   ],
   "metadata": {
    "collapsed": false
   }
  },
  {
   "cell_type": "code",
   "execution_count": null,
   "outputs": [],
   "source": [
    "# 构造样本数据\n",
    "\n",
    "for i in range(1, length - 1):\n",
    "    row_data = np.array([y[i], dy[i], ddy_ab[i], y[i - 1], dy[i - 1], ddy_ab[i - 1], ft[i - 1], ft[i], ft[i + 1]])\n",
    "    data.loc[i - 1] = row_data"
   ],
   "metadata": {
    "collapsed": false
   }
  },
  {
   "cell_type": "code",
   "execution_count": null,
   "outputs": [],
   "source": [
    "x_label = [\"str_cur_disp\", \"str_cur_vel\", \"str_cur_acc\", \"str_pre_disp\", \"str_pre_vel\", \"str_pre_acc\", \"ft_pre\", \"ft_cur\"]\n",
    "y_label = \"ft_next\"\n",
    "X = data.loc[:, x_label].values\n",
    "y = data.loc[:, y_label].values"
   ],
   "metadata": {
    "collapsed": false
   }
  },
  {
   "cell_type": "code",
   "execution_count": null,
   "outputs": [],
   "source": [
    "data_len = data.shape[0]\n",
    "train_len = int(0.6 * data_len)\n",
    "X_train = X[0: train_len, :]\n",
    "X_test = X[train_len: data_len, :]\n",
    "y_train = y[0: train_len]\n",
    "y_test = y[train_len: data_len]"
   ],
   "metadata": {
    "collapsed": false
   }
  },
  {
   "cell_type": "code",
   "execution_count": null,
   "outputs": [],
   "source": [
    "# 特征标准化，采用最大最小值标准化，转化后的值范围（0,1）\n",
    "from sklearn.preprocessing import MinMaxScaler\n",
    "\n",
    "min_max_scaler = MinMaxScaler(copy=True, feature_range=(0, 1))\n",
    "new_X_train = X_train\n",
    "new_X_test = X_test\n",
    "from sklearn.preprocessing import Normalizer\n",
    "from sklearn.preprocessing import StandardScaler\n",
    "# normalizer = Normalizer(copy=True, norm='l2').fit(new_X_train)\n",
    "# new_X_train = normalizer.transform(new_X_train)\n",
    "# new_X_test = normalizer.transform(new_X_test)\n",
    "ss = StandardScaler().fit(new_X_train)\n",
    "new_X_train = ss.transform(new_X_train)\n",
    "new_X_test = ss.transform(new_X_test)"
   ],
   "metadata": {
    "collapsed": false
   }
  },
  {
   "cell_type": "code",
   "execution_count": null,
   "outputs": [],
   "source": [
    "from sklearn.ensemble import RandomForestRegressor,  GradientBoostingRegressor\n",
    "GBoost = GradientBoostingRegressor(n_estimators=3000, learning_rate=0.05,\n",
    "                                   max_depth=4, max_features='sqrt',\n",
    "                                   min_samples_leaf=15, min_samples_split=10,\n",
    "                                   loss='huber', random_state =5)"
   ],
   "metadata": {
    "collapsed": false
   }
  },
  {
   "cell_type": "code",
   "execution_count": null,
   "outputs": [],
   "source": [
    "import matplotlib.pyplot as plt\n",
    "from sklearn.metrics import mean_squared_error\n",
    "def plot_regression_results(ax, y_true, y_pred, title, scores):\n",
    "    \"\"\"预测目标与真实目标的散点图。\"\"\"\n",
    "    ax.plot([y_true.min(), y_true.max()],\n",
    "            [y_true.min(), y_true.max()],'--r', linewidth=2)\n",
    "    ax.scatter(y_true, y_pred, alpha=0.2)\n",
    "    ax.spines['top'].set_visible(False)\n",
    "    ax.spines['right'].set_visible(False)\n",
    "    ax.get_xaxis().tick_bottom()\n",
    "    ax.get_yaxis().tick_left()\n",
    "    ax.spines['left'].set_position(('outward', 10))\n",
    "    ax.spines['bottom'].set_position(('outward', 10))\n",
    "    ax.set_xlim([y_true.min(), y_true.max()])\n",
    "    ax.set_ylim([y_true.min(), y_true.max()])\n",
    "    ax.set_xlabel('Measured')\n",
    "    ax.set_ylabel('Predicted')\n",
    "    extra = plt.Rectangle((0, 0), 0, 0, fc=\"w\", fill=False,\n",
    "                          edgecolor='none', linewidth=0)\n",
    "    ax.legend([extra], [scores], loc='upper left')\n",
    "    ax.set_title(title)\n",
    "\n",
    "\n",
    "def rmsle(y, y_pred):\n",
    "    return np.sqrt(mean_squared_error(y, y_pred))"
   ],
   "metadata": {
    "collapsed": false
   }
  },
  {
   "cell_type": "code",
   "execution_count": null,
   "outputs": [],
   "source": [
    "GBoost.fit(new_X_train, y_train)\n",
    "\n",
    "\n",
    "train_pred = GBoost.predict(new_X_train)\n",
    "pred = GBoost.predict(new_X_test)\n",
    "print(rmsle(y_train, train_pred))"
   ],
   "metadata": {
    "collapsed": false
   }
  },
  {
   "cell_type": "code",
   "execution_count": null,
   "outputs": [],
   "source": [
    "from sklearn.metrics import mean_absolute_percentage_error, r2_score, mean_squared_error\n",
    "r2 = r2_score(y_test, pred)\n",
    "mse = mean_squared_error(y_test, pred)\n",
    "mape = mean_absolute_percentage_error(y_test, pred)\n",
    "\n",
    "plt.figure(figsize=(10,8))\n",
    "ax = plt.gca()\n",
    "plot_regression_results(\n",
    "        ax, y_test, pred,\n",
    "        \"Stacking Regressor\",\n",
    "        (r'$R^2={:.2f}$' + '\\n' + r'$MAPE={:.2f}$' + '\\n' + r'$MSE={:.2f}$')\n",
    "        .format(r2, mse, mape))\n"
   ],
   "metadata": {
    "collapsed": false
   }
  },
  {
   "cell_type": "code",
   "execution_count": null,
   "outputs": [],
   "source": [
    "# 半主动控制结构\n",
    "u2_ml = np.zeros([2, wave_len_s])\n",
    "du2_ml = np.zeros([2, wave_len_s])\n",
    "du2_ml[1, 0] = -wave_s[0]\n",
    "F = np.zeros([2, wave_len_s])\n",
    "ft_ml = np.zeros(wave_len_s)\n",
    "ud_ml = np.zeros(wave_len_s)\n",
    "dud_ml = np.zeros(wave_len_s)\n",
    "ddud_ml = np.zeros(wave_len_s)\n",
    "fmax_ml = np.zeros(wave_len_s)\n",
    "fmin_ml = np.zeros(wave_len_s)\n",
    "fa_ml = np.zeros(wave_len_s)\n",
    "ud_ml_pre = 0\n",
    "dud_ml_pre = 0\n",
    "\n",
    "str_pre_disp = 0\n",
    "str_pre_vel = 0\n",
    "str_pre_acc = 0\n",
    "str_cur_disp = 0\n",
    "str_cur_vel = 0\n",
    "str_cur_acc = 0\n",
    "ft_ml_pre = 0\n",
    "ft_ml_next = 0\n",
    "for i in range(1, wave_len_s - 1):\n",
    "    p = np.array([[0], [-wave_s[i]]])  # 当前荷载向量\n",
    "    str_cur_disp = u2_ml[0, i - 1]\n",
    "    str_cur_vel = u2_ml[1, i - 1]\n",
    "    str_cur_acc = du2_ml[1, i - 1]\n",
    "    ft_ml_cur = F[1, i - 1]\n",
    "    x = np.array([str_cur_disp, str_cur_vel, str_cur_acc, str_pre_disp, str_pre_vel, str_pre_acc, ft_ml_pre, ft_ml_cur], ndmin=2)\n",
    "    x = ss.transform(x)\n",
    "    ft_ml[i] = GBoost.predict(x)[0]\n",
    "    ud_ml[i] = u2_ml[0, i] - ft_ml[i] / kd  # 当前惯容位移\n",
    "    dud_ml[i] = (ud_ml[i] - ud_ml_pre) / dt_s  # 当前惯容速度\n",
    "    ddud_ml[i] = (dud_ml[i] - dud_ml_pre) / dt_s  # 当前惯容加速度\n",
    "    ud_ml_pre = ud_ml[i]\n",
    "    dud_ml_pre = dud_ml[i]\n",
    "    # 当前出力上限\n",
    "    fmax_ml[i] = max(\n",
    "        [min_max * ddud_ml[i] + cd_max * dud_ml[i],\n",
    "         min_max * ddud_ml[i] + cd_min * dud_ml[i],\n",
    "         min_min * ddud_ml[i] + cd_max * dud_ml[i],\n",
    "         min_min * ddud_ml[i] + cd_min * dud_ml[i]])\n",
    "    # 当前出力下限\n",
    "    fmin_ml[i] = min([min_max * ddud_ml[i] + cd_max * dud_ml[i],\n",
    "                   min_max * ddud_ml[i] + cd_min * dud_ml[i],\n",
    "                   min_min * ddud_ml[i] + cd_max * dud_ml[i],\n",
    "                   min_min * ddud_ml[i] + cd_min * dud_ml[i]])\n",
    "    if ft_ml[i] < fmin_ml[i]:\n",
    "        fa_ml[i] = fmin_ml[i]\n",
    "    elif ft_ml[i] > fmax_ml[i]:\n",
    "        fa_ml[i] = fmax_ml[i]\n",
    "    else:\n",
    "        fa_ml[i] = ft_ml[i]\n",
    "    F[1, i] = fa_ml[i]\n",
    "    ft_ml_pre = ft_ml_cur\n",
    "    str_pre_disp = str_cur_disp\n",
    "    str_pre_vel = str_cur_vel\n",
    "    str_pre_acc = str_cur_acc\n",
    "    du2_ml[:, i + 1, None] = np.dot(A, u2_ml[..., i, None]) + np.dot(B, F[..., i, None])  + p\n",
    "    u2_ml[..., i + 1] = u2_ml[..., i] + du2_ml[..., i + 1] * dt_s"
   ],
   "metadata": {
    "collapsed": false
   }
  },
  {
   "cell_type": "code",
   "execution_count": null,
   "outputs": [],
   "source": [
    "plt.plot(t_s, u0[0, :].reshape(-1))\n",
    "plt.plot(t_s, u1[0, :])\n",
    "plt.plot(t_s, u2[0, :])\n",
    "plt.plot(t_s, u2_ml[0, :])"
   ],
   "metadata": {
    "collapsed": false
   }
  },
  {
   "cell_type": "code",
   "execution_count": null,
   "outputs": [],
   "source": [
    "plt.plot(t_s, fa)\n",
    "plt.plot(t_s, fa_ml)"
   ],
   "metadata": {
    "collapsed": false
   }
  },
  {
   "cell_type": "code",
   "execution_count": null,
   "outputs": [],
   "source": [
    "# 用另外一条波\n",
    "wave = 0\n",
    "dt = 0\n",
    "name = \"RSN93_SFERN_WND143.AT2\"\n",
    "root = \"./waves\"\n",
    "print(name)\n",
    "wave_name = name.split('.')[0]\n",
    "if name.endswith(\".AT2\"):\n",
    "    filename = os.path.join(root, name)\n",
    "    with open(filename, 'r') as fo:\n",
    "        for i in range(3):\n",
    "            fo.readline()\n",
    "        line = fo.readline()\n",
    "        target = re.search(r'DT= *(.*) *SEC', line, re.I | re.M)\n",
    "        dt = float(target.group(1))\n",
    "        wave = pd.read_table(filename, skiprows=4, sep=\"  \", header=None, engine='python')\n",
    "        wave = wave.fillna(0)\n",
    "        wave = wave.values\n",
    "        size = wave.size\n",
    "        wave = wave.reshape((size,))\n",
    "if name.endswith(\".txt\"):\n",
    "    filename = os.path.join(root, name)\n",
    "    wave = np.loadtxt(filename)\n",
    "    dt = 0.02\n",
    "wave = wave * 0.3 * 9.8\n",
    "wave_len = len(wave)\n",
    "time = np.arange(0, wave_len * dt, dt)"
   ],
   "metadata": {
    "collapsed": false
   }
  },
  {
   "cell_type": "code",
   "execution_count": null,
   "outputs": [],
   "source": [
    "# 加速度插值\n",
    "dt_s = 0.001\n",
    "t_s = np.arange(0, max(time), dt_s)\n",
    "wave_s = np.interp(t_s, time, wave)\n",
    "wave_len_s = len(wave_s)"
   ],
   "metadata": {
    "collapsed": false
   }
  },
  {
   "cell_type": "code",
   "execution_count": null,
   "outputs": [],
   "source": [
    "# 原结构\n",
    "u0 = np.zeros([2, wave_len_s])\n",
    "du0 = np.zeros([2, wave_len_s])\n",
    "du0[1, 0] = -wave_s[0]\n",
    "for i in range(0, wave_len_s - 1):\n",
    "    p = np.array([[0], [-wave_s[i]]])\n",
    "    du0[..., i + 1, None] = np.dot(A, u0[..., i, None]) + p\n",
    "    u0[..., i + 1] = u0[..., i] + du0[..., i + 1] * dt_s"
   ],
   "metadata": {
    "collapsed": false
   }
  },
  {
   "cell_type": "code",
   "execution_count": null,
   "outputs": [],
   "source": [
    "# 被动控制结构\n",
    "M = np.array([[m, 0], [0, md0]], ndmin=2, dtype=float)\n",
    "K = np.array([[k + kd0, -kd0], [-kd0, kd0]], ndmin=2, dtype=float)\n",
    "C = np.array([[c, 0], [0, cd0]], ndmin=2, dtype=float)\n",
    "E = np.array([[1], [0]], ndmin=2, dtype=float)\n",
    "u1, du1, _, ddu1_ab = newmark(K, M, C, wave_s, dt_s, E)"
   ],
   "metadata": {
    "collapsed": false
   }
  },
  {
   "cell_type": "code",
   "execution_count": null,
   "outputs": [],
   "source": [
    "plt.plot(t_s, u0[0, :].reshape(-1))\n",
    "plt.plot(t_s, u1[0, :])"
   ],
   "metadata": {
    "collapsed": false,
    "pycharm": {
     "name": "#%%v\n"
    }
   }
  },
  {
   "cell_type": "code",
   "execution_count": null,
   "outputs": [],
   "source": [
    "# 半主动控制结构\n",
    "u2 = np.zeros([2, wave_len_s])\n",
    "du2 = np.zeros([2, wave_len_s])\n",
    "du2[1, 0] = -wave_s[0]\n",
    "F = np.zeros([2, wave_len_s])\n",
    "ft = np.zeros(wave_len_s)\n",
    "ud = np.zeros(wave_len_s)\n",
    "dud = np.zeros(wave_len_s)\n",
    "ddud = np.zeros(wave_len_s)\n",
    "fmax = np.zeros(wave_len_s)\n",
    "fmin = np.zeros(wave_len_s)\n",
    "fa = np.zeros(wave_len_s)\n",
    "\n",
    "ud_pre = 0\n",
    "dud_pre = 0\n",
    "\n",
    "for i in range(wave_len_s - 1):\n",
    "    p = np.array([[0], [-wave_s[i]]])  # 当前荷载向量\n",
    "    F[:, i, None] = np.dot(D, u2[:, i, None])  # 当前反馈力\n",
    "    ft[i] = F[1, i]  # 当前目标出力\n",
    "    ud[i] = u2[0, i] - ft[i] / kd  # 当前惯容位移\n",
    "    dud[i] = (ud[i] - ud_pre) / dt_s  # 当前惯容速度\n",
    "    ddud[i] = (dud[i] - dud_pre) / dt_s  # 当前惯容加速度\n",
    "    ud_pre = ud[i]\n",
    "    dud_pre = dud[i]\n",
    "\n",
    "    # 当前出力上限\n",
    "    fmax[i] = max(\n",
    "        [min_max * ddud[i] + cd_max * dud[i],\n",
    "         min_max * ddud[i] + cd_min * dud[i],\n",
    "         min_min * ddud[i] + cd_max * dud[i],\n",
    "         min_min * ddud[i] + cd_min * dud[i]])\n",
    "    # 当前出力下限\n",
    "    fmin[i] = min([min_max * ddud[i] + cd_max * dud[i],\n",
    "                   min_max * ddud[i] + cd_min * dud[i],\n",
    "                   min_min * ddud[i] + cd_max * dud[i],\n",
    "                   min_min * ddud[i] + cd_min * dud[i]])\n",
    "    if ft[i] < fmin[i]:\n",
    "        fa[i] = fmin[i]\n",
    "    elif ft[i] > fmax[i]:\n",
    "        fa[i] = fmax[i]\n",
    "    else:\n",
    "        fa[i] = ft[i]\n",
    "    F[1, i] = fa[i]\n",
    "    du2[:, i + 1, None] = np.dot(A, u2[..., i, None]) + np.dot(B, F[..., i, None])  + p\n",
    "    u2[..., i + 1] = u2[..., i] + du2[..., i + 1] * dt_s"
   ],
   "metadata": {
    "collapsed": false
   }
  },
  {
   "cell_type": "code",
   "execution_count": null,
   "outputs": [],
   "source": [
    "plt.plot(t_s, u0[0, :].reshape(-1))\n",
    "plt.plot(t_s, u1[0, :])\n",
    "plt.plot(t_s, u2[0, :])"
   ],
   "metadata": {
    "collapsed": false
   }
  },
  {
   "cell_type": "code",
   "execution_count": null,
   "outputs": [],
   "source": [
    "# 半主动控制结构\n",
    "u2_ml = np.zeros([2, wave_len_s])\n",
    "du2_ml = np.zeros([2, wave_len_s])\n",
    "du2_ml[1, 0] = -wave_s[0]\n",
    "F = np.zeros([2, wave_len_s])\n",
    "ft_ml = np.zeros(wave_len_s)\n",
    "ud_ml = np.zeros(wave_len_s)\n",
    "dud_ml = np.zeros(wave_len_s)\n",
    "ddud_ml = np.zeros(wave_len_s)\n",
    "fmax_ml = np.zeros(wave_len_s)\n",
    "fmin_ml = np.zeros(wave_len_s)\n",
    "fa_ml = np.zeros(wave_len_s)\n",
    "ud_ml_pre = 0\n",
    "dud_ml_pre = 0\n",
    "\n",
    "str_pre_disp = 0\n",
    "str_pre_vel = 0\n",
    "str_pre_acc = 0\n",
    "str_cur_disp = 0\n",
    "str_cur_vel = 0\n",
    "str_cur_acc = 0\n",
    "ft_ml_pre = 0\n",
    "ft_ml_next = 0\n",
    "for i in range(1, wave_len_s - 1):\n",
    "    p = np.array([[0], [-wave_s[i]]])  # 当前荷载向量\n",
    "    str_cur_disp = u2_ml[0, i - 1]\n",
    "    str_cur_vel = u2_ml[1, i - 1]\n",
    "    str_cur_acc = du2_ml[1, i - 1]\n",
    "    ft_ml_cur = F[1, i - 1]\n",
    "    x = np.array([str_cur_disp, str_cur_vel, str_cur_acc, str_pre_disp, str_pre_vel, str_pre_acc, ft_ml_pre, ft_ml_cur], ndmin=2)\n",
    "    x = ss.transform(x)\n",
    "    ft_ml[i] = GBoost.predict(x)[0]\n",
    "    ud_ml[i] = u2_ml[0, i] - ft_ml[i] / kd  # 当前惯容位移\n",
    "    dud_ml[i] = (ud_ml[i] - ud_ml_pre) / dt_s  # 当前惯容速度\n",
    "    ddud_ml[i] = (dud_ml[i] - dud_ml_pre) / dt_s  # 当前惯容加速度\n",
    "    ud_ml_pre = ud_ml[i]\n",
    "    dud_ml_pre = dud_ml[i]\n",
    "    # 当前出力上限\n",
    "    fmax_ml[i] = max(\n",
    "        [min_max * ddud_ml[i] + cd_max * dud_ml[i],\n",
    "         min_max * ddud_ml[i] + cd_min * dud_ml[i],\n",
    "         min_min * ddud_ml[i] + cd_max * dud_ml[i],\n",
    "         min_min * ddud_ml[i] + cd_min * dud_ml[i]])\n",
    "    # 当前出力下限\n",
    "    fmin_ml[i] = min([min_max * ddud_ml[i] + cd_max * dud_ml[i],\n",
    "                   min_max * ddud_ml[i] + cd_min * dud_ml[i],\n",
    "                   min_min * ddud_ml[i] + cd_max * dud_ml[i],\n",
    "                   min_min * ddud_ml[i] + cd_min * dud_ml[i]])\n",
    "    if ft_ml[i] < fmin_ml[i]:\n",
    "        fa_ml[i] = fmin_ml[i]\n",
    "    elif ft_ml[i] > fmax_ml[i]:\n",
    "        fa_ml[i] = fmax_ml[i]\n",
    "    else:\n",
    "        fa_ml[i] = ft_ml[i]\n",
    "    F[1, i] = fa_ml[i]\n",
    "    ft_ml_pre = ft_ml_cur\n",
    "    str_pre_disp = str_cur_disp\n",
    "    str_pre_vel = str_cur_vel\n",
    "    str_pre_acc = str_cur_acc\n",
    "    du2_ml[:, i + 1, None] = np.dot(A, u2_ml[..., i, None]) + np.dot(B, F[..., i, None])  + p\n",
    "    u2_ml[..., i + 1] = u2_ml[..., i] + du2_ml[..., i + 1] * dt_s"
   ],
   "metadata": {
    "collapsed": false
   }
  },
  {
   "cell_type": "code",
   "execution_count": null,
   "outputs": [],
   "source": [
    "plt.plot(t_s, u0[0, :].reshape(-1))\n",
    "plt.plot(t_s, u1[0, :])\n",
    "plt.plot(t_s, u2[0, :])\n",
    "plt.plot(t_s, u2_ml[0, :])"
   ],
   "metadata": {
    "collapsed": false
   }
  },
  {
   "cell_type": "code",
   "execution_count": null,
   "outputs": [],
   "source": [
    "plt.plot(t_s, ddud)\n",
    "plt.plot(t_s, ddud_ml)"
   ],
   "metadata": {
    "collapsed": false
   }
  },
  {
   "cell_type": "code",
   "execution_count": null,
   "outputs": [],
   "source": [
    "plt.plot(t_s, fmax)\n",
    "plt.plot(t_s, fmin)\n",
    "plt.plot(t_s, fa)"
   ],
   "metadata": {
    "collapsed": false
   }
  },
  {
   "cell_type": "code",
   "execution_count": null,
   "outputs": [],
   "source": [
    "plt.plot(t_s, fmax_ml)\n",
    "plt.plot(t_s, fmin_ml)\n",
    "plt.plot(t_s, fa_ml)"
   ],
   "metadata": {
    "collapsed": false
   }
  },
  {
   "cell_type": "code",
   "execution_count": null,
   "outputs": [],
   "source": [
    "plt.plot(t_s, fmax)\n",
    "plt.plot(t_s, fmin)\n",
    "plt.plot(t_s, ft)"
   ],
   "metadata": {
    "collapsed": false
   }
  },
  {
   "cell_type": "code",
   "execution_count": null,
   "outputs": [],
   "source": [
    "plt.plot(t_s, ft)\n",
    "plt.plot(t_s, ft_ml)"
   ],
   "metadata": {
    "collapsed": false
   }
  },
  {
   "cell_type": "code",
   "execution_count": null,
   "outputs": [],
   "source": [],
   "metadata": {
    "collapsed": false
   }
  }
 ],
 "metadata": {
  "kernelspec": {
   "display_name": "Python 3",
   "language": "python",
   "name": "python3"
  },
  "language_info": {
   "codemirror_mode": {
    "name": "ipython",
    "version": 2
   },
   "file_extension": ".py",
   "mimetype": "text/x-python",
   "name": "python",
   "nbconvert_exporter": "python",
   "pygments_lexer": "ipython2",
   "version": "2.7.6"
  }
 },
 "nbformat": 4,
 "nbformat_minor": 0
}
