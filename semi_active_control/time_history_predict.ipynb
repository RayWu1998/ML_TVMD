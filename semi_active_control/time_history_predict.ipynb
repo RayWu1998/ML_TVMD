{
 "cells": [
  {
   "cell_type": "code",
   "execution_count": null,
   "metadata": {
    "collapsed": true
   },
   "outputs": [],
   "source": [
    "import numpy as np\n",
    "from common_function import newmark\n",
    "import os\n",
    "import pandas as pd\n",
    "import re\n",
    "from matplotlib import pyplot as plt"
   ]
  },
  {
   "cell_type": "code",
   "execution_count": null,
   "outputs": [],
   "source": [
    "w0 = 2 * np.pi / 0.56\n",
    "k0 = 192 * 1e6\n",
    "m0 = 1500 * 1e3\n",
    "xi = 0.05\n",
    "c0 = xi * 2 * m0 * w0\n",
    "M0 = np.array(m0, ndmin=2, dtype=float)\n",
    "C0 = np.array(c0, ndmin=2, dtype=float)\n",
    "K0 = np.array(k0, ndmin=2, dtype=float)\n",
    "E0 = np.array(1, ndmin=2, dtype=float)\n",
    "wave = 0\n",
    "dt = 0\n",
    "for root, dirs, files in os.walk(\"./waves\", topdown=False):\n",
    "    for name in files:\n",
    "        print(name)\n",
    "        wave_name = name.split('.')[0]\n",
    "        if name.endswith(\".AT2\"):\n",
    "            filename = os.path.join(root, name)\n",
    "            with open(filename, 'r') as fo:\n",
    "                for i in range(3):\n",
    "                    fo.readline()\n",
    "                line = fo.readline()\n",
    "                target = re.search(r'DT= *(.*) *SEC', line, re.I | re.M)\n",
    "                dt = float(target.group(1))\n",
    "                wave = pd.read_table(filename, skiprows=4, sep=\"  \", header=None, engine='python')\n",
    "                wave = wave.fillna(0)\n",
    "                wave = wave.values\n",
    "                size = wave.size\n",
    "                wave = wave.reshape((size,))\n",
    "                wave = wave / max(abs(wave)) * 1.4\n",
    "        if name.endswith(\".txt\"):\n",
    "            filename = os.path.join(root, name)\n",
    "            wave = np.loadtxt(filename)\n",
    "            wave = wave / max(abs(wave)) * 1.4\n",
    "            dt = 0.02\n",
    "resp0 = newmark(K0, M0, C0, wave, dt, E0)"
   ],
   "metadata": {
    "collapsed": false
   }
  },
  {
   "cell_type": "code",
   "execution_count": null,
   "outputs": [],
   "source": [
    "length = len(wave)"
   ],
   "metadata": {
    "collapsed": false
   }
  },
  {
   "cell_type": "code",
   "execution_count": null,
   "outputs": [],
   "source": [
    "T = np.arange(0, dt * length, dt)\n",
    "plt.plot(T, resp0[0][0])"
   ],
   "metadata": {
    "collapsed": false
   }
  },
  {
   "cell_type": "code",
   "execution_count": null,
   "outputs": [],
   "source": [
    "plt.plot(T, resp0[1][0])"
   ],
   "metadata": {
    "collapsed": false
   }
  },
  {
   "cell_type": "code",
   "execution_count": null,
   "outputs": [],
   "source": [
    "plt.plot(T, resp0[3][0])"
   ],
   "metadata": {
    "collapsed": false
   }
  },
  {
   "cell_type": "code",
   "execution_count": null,
   "outputs": [],
   "source": [
    "y = resp0[0][0]\n",
    "dy = resp0[1][0]\n",
    "ddy_ab = resp0[3][0]"
   ],
   "metadata": {
    "collapsed": false
   }
  },
  {
   "cell_type": "code",
   "execution_count": null,
   "outputs": [],
   "source": [
    "data = pd.DataFrame(data=None, columns=[\"cur_wave\", \"pre_wave\", \"str_cur_disp\", \"str_cur_vel\", \"str_cur_acc\", \"str_pre_disp\", \"str_pre_vel\", \"str_pre_acc\", \"str_next_disp\", \"str_next_vel\", \"str_next_acc\"])"
   ],
   "metadata": {
    "collapsed": false
   }
  },
  {
   "cell_type": "code",
   "execution_count": null,
   "outputs": [],
   "source": [
    "# 构造样本数据\n",
    "length = len(wave)\n",
    "for i in range(1, length - 1):\n",
    "    row_data = np.array([wave[i], wave[i -1], y[i], dy[i], ddy_ab[i], y[i - 1], dy[i - 1], ddy_ab[i - 1], y[i + 1], dy[i + 1], ddy_ab[i + 1]])\n",
    "    data.loc[len(data)] = row_data"
   ],
   "metadata": {
    "collapsed": false
   }
  },
  {
   "cell_type": "code",
   "execution_count": null,
   "outputs": [],
   "source": [
    "x_label = [\"cur_wave\", \"pre_wave\", \"str_cur_disp\", \"str_cur_vel\", \"str_cur_acc\", \"str_pre_disp\", \"str_pre_vel\", \"str_pre_acc\"]\n",
    "y_label = [\"str_next_disp\", \"str_next_vel\", \"str_next_acc\"]\n",
    "\n",
    "X = data.loc[:, x_label].values\n",
    "y = data.loc[:, y_label].values"
   ],
   "metadata": {
    "collapsed": false
   }
  },
  {
   "cell_type": "code",
   "execution_count": null,
   "outputs": [],
   "source": [
    "X_train = X[0: 1200, :]\n",
    "X_test = X[1200: length - 1, :]\n",
    "y_train_disp = y[0: 1200, 0]\n",
    "y_train_vel = y[0: 1200, 1]\n",
    "y_train_acc = y[0: 1200, 2]\n",
    "y_test_disp = y[1200: length - 1, 0]\n",
    "y_test_vel = y[1200: length - 1, 1]\n",
    "y_test_acc = y[1200: length - 1, 2]"
   ],
   "metadata": {
    "collapsed": false
   }
  },
  {
   "cell_type": "code",
   "execution_count": null,
   "outputs": [],
   "source": [
    "# 特征标准化，采用最大最小值标准化，转化后的值范围（0,1）\n",
    "from sklearn.preprocessing import MinMaxScaler\n",
    "\n",
    "min_max_scaler = MinMaxScaler(copy=True, feature_range=(0, 1))\n",
    "new_X_train = X_train\n",
    "new_X_test = X_test\n",
    "from sklearn.preprocessing import Normalizer\n",
    "from sklearn.preprocessing import StandardScaler\n",
    "# normalizer = Normalizer(copy=True, norm='l2').fit(new_X_train)\n",
    "# new_X_train = normalizer.transform(new_X_train)\n",
    "# new_X_test = normalizer.transform(new_X_test)\n",
    "ss = StandardScaler().fit(new_X_train)\n",
    "new_X_train = ss.transform(new_X_train)\n",
    "new_X_test = ss.transform(new_X_test)"
   ],
   "metadata": {
    "collapsed": false
   }
  },
  {
   "cell_type": "code",
   "execution_count": null,
   "outputs": [],
   "source": [
    "from sklearn.ensemble import RandomForestRegressor,  GradientBoostingRegressor\n",
    "GBoost_disp = GradientBoostingRegressor(n_estimators=3000, learning_rate=0.05,\n",
    "                                   max_depth=4, max_features='sqrt',\n",
    "                                   min_samples_leaf=15, min_samples_split=10,\n",
    "                                   loss='huber', random_state =5)\n",
    "GBoost_vel = GradientBoostingRegressor(n_estimators=3000, learning_rate=0.05,\n",
    "                                   max_depth=4, max_features='sqrt',\n",
    "                                   min_samples_leaf=15, min_samples_split=10,\n",
    "                                   loss='huber', random_state =5)\n",
    "GBoost_acc = GradientBoostingRegressor(n_estimators=3000, learning_rate=0.05,\n",
    "                                   max_depth=4, max_features='sqrt',\n",
    "                                   min_samples_leaf=15, min_samples_split=10,\n",
    "                                   loss='huber', random_state =5)"
   ],
   "metadata": {
    "collapsed": false
   }
  },
  {
   "cell_type": "code",
   "execution_count": null,
   "outputs": [],
   "source": [
    "import matplotlib.pyplot as plt\n",
    "from sklearn.metrics import mean_squared_error\n",
    "def plot_regression_results(ax, y_true, y_pred, title, scores):\n",
    "    \"\"\"预测目标与真实目标的散点图。\"\"\"\n",
    "    ax.plot([y_true.min(), y_true.max()],\n",
    "            [y_true.min(), y_true.max()],'--r', linewidth=2)\n",
    "    ax.scatter(y_true, y_pred, alpha=0.2)\n",
    "    ax.spines['top'].set_visible(False)\n",
    "    ax.spines['right'].set_visible(False)\n",
    "    ax.get_xaxis().tick_bottom()\n",
    "    ax.get_yaxis().tick_left()\n",
    "    ax.spines['left'].set_position(('outward', 10))\n",
    "    ax.spines['bottom'].set_position(('outward', 10))\n",
    "    ax.set_xlim([y_true.min(), y_true.max()])\n",
    "    ax.set_ylim([y_true.min(), y_true.max()])\n",
    "    ax.set_xlabel('Measured')\n",
    "    ax.set_ylabel('Predicted')\n",
    "    extra = plt.Rectangle((0, 0), 0, 0, fc=\"w\", fill=False,\n",
    "                          edgecolor='none', linewidth=0)\n",
    "    ax.legend([extra], [scores], loc='upper left')\n",
    "    ax.set_title(title)\n",
    "\n",
    "\n",
    "def rmsle(y, y_pred):\n",
    "    return np.sqrt(mean_squared_error(y, y_pred))"
   ],
   "metadata": {
    "collapsed": false
   }
  },
  {
   "cell_type": "code",
   "execution_count": null,
   "outputs": [],
   "source": [
    "GBoost_disp.fit(new_X_train, y_train_disp)\n",
    "GBoost_vel.fit(new_X_train, y_train_vel)\n",
    "GBoost_acc.fit(new_X_train, y_train_acc)\n",
    "\n",
    "train_pred_disp = GBoost_disp.predict(new_X_train)\n",
    "pred_disp = GBoost_disp.predict(new_X_test)\n",
    "print(rmsle(y_train_disp, train_pred_disp))\n",
    "\n",
    "train_pred_vel = GBoost_vel.predict(new_X_train)\n",
    "pred_vel = GBoost_vel.predict(new_X_test)\n",
    "print(rmsle(y_train_vel, train_pred_vel))\n",
    "\n",
    "train_pred_acc = GBoost_acc.predict(new_X_train)\n",
    "pred_acc = GBoost_acc.predict(new_X_test)\n",
    "print(rmsle(y_train_acc, train_pred_acc))"
   ],
   "metadata": {
    "collapsed": false
   }
  },
  {
   "cell_type": "code",
   "execution_count": null,
   "outputs": [],
   "source": [
    "from sklearn.metrics import mean_absolute_percentage_error, r2_score, mean_squared_error\n",
    "r2_disp = r2_score(y_test_disp, pred_disp)\n",
    "mse_disp = mean_squared_error(y_test_disp, pred_disp)\n",
    "mape_disp = mean_absolute_percentage_error(y_test_disp, pred_disp)\n",
    "\n",
    "plt.figure(figsize=(10,8))\n",
    "ax = plt.gca()\n",
    "plot_regression_results(\n",
    "        ax, y_test_disp, pred_disp,\n",
    "        \"Stacking Regressor\",\n",
    "        (r'$R^2={:.2f}$' + '\\n' + r'$MAPE={:.2f}$' + '\\n' + r'$MSE={:.2f}$')\n",
    "        .format(r2_disp, mse_disp, mape_disp))\n",
    "\n",
    "\n",
    "r2_vel = r2_score(y_test_vel, pred_vel)\n",
    "mse_vel = mean_squared_error(y_test_vel, pred_vel)\n",
    "mape_vel = mean_absolute_percentage_error(y_test_vel, pred_vel)\n",
    "\n",
    "plt.figure(figsize=(10,8))\n",
    "ax = plt.gca()\n",
    "plot_regression_results(\n",
    "        ax, y_test_vel, pred_vel,\n",
    "        \"Stacking Regressor\",\n",
    "        (r'$R^2={:.2f}$' + '\\n' + r'$MAPE={:.2f}$' + '\\n' + r'$MSE={:.2f}$')\n",
    "        .format(r2_vel, mse_vel, mape_vel))\n",
    "\n",
    "\n",
    "r2_acc = r2_score(y_test_acc, pred_acc)\n",
    "mse_acc = mean_squared_error(y_test_acc, pred_acc)\n",
    "mape_acc = mean_absolute_percentage_error(y_test_acc, pred_acc)\n",
    "\n",
    "plt.figure(figsize=(10,8))\n",
    "ax = plt.gca()\n",
    "plot_regression_results(\n",
    "        ax, y_test_acc, pred_acc,\n",
    "        \"Stacking Regressor\",\n",
    "        (r'$R^2={:.2f}$' + '\\n' + r'$MAPE={:.2f}$' + '\\n' + r'$MSE={:.2f}$')\n",
    "        .format(r2_acc, mse_acc, mape_acc))"
   ],
   "metadata": {
    "collapsed": false
   }
  },
  {
   "cell_type": "code",
   "execution_count": null,
   "outputs": [],
   "source": [
    "# 绘图\n",
    "T = np.arange(0, dt * length, dt)"
   ],
   "metadata": {
    "collapsed": false
   }
  },
  {
   "cell_type": "code",
   "execution_count": null,
   "outputs": [],
   "source": [
    "disp = resp0[0][0]\n",
    "vel = resp0[1][0]\n",
    "acc = resp0[3][0]\n",
    "pred_disp = np.zeros(length)\n",
    "pred_vel = np.zeros(length)\n",
    "pred_acc = np.zeros(length)\n",
    "\n",
    "pre_wave = 0\n",
    "str_pre_disp = 0\n",
    "str_pre_vel = 0\n",
    "str_pre_acc = 0\n",
    "\n",
    "for i in range(0, length - 1):\n",
    "    cur_wave = wave[i]\n",
    "    str_cur_disp = disp[i]\n",
    "    str_cur_vel = vel[i]\n",
    "    str_cur_acc = acc[i]\n",
    "\n",
    "    x = np.array([cur_wave, pre_wave, str_cur_disp, str_cur_vel, str_cur_acc, str_pre_disp, str_pre_vel, str_pre_acc], ndmin=2)\n",
    "    x = ss.transform(x)\n",
    "    pred_disp[i + 1] = GBoost_disp.predict(x)[0]\n",
    "    pred_vel[i + 1] = GBoost_vel.predict(x)[0]\n",
    "    pred_acc[i + 1] = GBoost_acc.predict(x)[0]\n",
    "\n",
    "    pre_wave = cur_wave\n",
    "    str_pre_disp = str_cur_disp\n",
    "    str_pre_vel = str_cur_vel\n",
    "    str_pre_acc = str_cur_acc\n",
    "\n"
   ],
   "metadata": {
    "collapsed": false
   }
  },
  {
   "cell_type": "code",
   "execution_count": null,
   "outputs": [],
   "source": [
    "plt.plot(T, disp, T, pred_disp)"
   ],
   "metadata": {
    "collapsed": false
   }
  },
  {
   "cell_type": "code",
   "execution_count": null,
   "outputs": [],
   "source": [
    "plt.plot(T, vel, T, pred_vel)"
   ],
   "metadata": {
    "collapsed": false
   }
  },
  {
   "cell_type": "code",
   "execution_count": null,
   "outputs": [],
   "source": [
    "plt.plot(T, acc, T, pred_acc)"
   ],
   "metadata": {
    "collapsed": false
   }
  }
 ],
 "metadata": {
  "kernelspec": {
   "display_name": "Python 3",
   "language": "python",
   "name": "python3"
  },
  "language_info": {
   "codemirror_mode": {
    "name": "ipython",
    "version": 2
   },
   "file_extension": ".py",
   "mimetype": "text/x-python",
   "name": "python",
   "nbconvert_exporter": "python",
   "pygments_lexer": "ipython2",
   "version": "2.7.6"
  }
 },
 "nbformat": 4,
 "nbformat_minor": 0
}
